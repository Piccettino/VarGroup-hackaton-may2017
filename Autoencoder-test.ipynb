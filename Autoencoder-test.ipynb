{
    "metadata": {
        "kernelspec": {
            "name": "python2-spark20", 
            "display_name": "Python 2 with Spark 2.0", 
            "language": "python"
        }, 
        "language_info": {
            "codemirror_mode": {
                "version": 2, 
                "name": "ipython"
            }, 
            "version": "2.7.11", 
            "mimetype": "text/x-python", 
            "pygments_lexer": "ipython2", 
            "file_extension": ".py", 
            "name": "python", 
            "nbconvert_exporter": "python"
        }
    }, 
    "cells": [
        {
            "metadata": {
                "collapsed": false
            }, 
            "cell_type": "code", 
            "outputs": [
                {
                    "name": "stdout", 
                    "output_type": "stream", 
                    "text": "Requirement already satisfied: scikit-neuralnetwork in /gpfs/global_fs01/sym_shared/YPProdSpark/user/s5bb-8b7facce6d128f-9bc09e5c3e7f/.local/lib/python2.7/site-packages\nRequirement already satisfied: Lasagne>=0.1 in /usr/local/src/bluemix_jupyter_bundle.v43/notebook/lib/python2.7/site-packages (from scikit-neuralnetwork)\nRequirement already satisfied: scikit-learn>=0.17 in /usr/local/src/bluemix_jupyter_bundle.v43/notebook/lib/python2.7/site-packages (from scikit-neuralnetwork)\nRequirement already satisfied: Theano>=0.8 in /usr/local/src/bluemix_jupyter_bundle.v43/notebook/lib/python2.7/site-packages (from scikit-neuralnetwork)\nRequirement already satisfied: numpy in /usr/local/src/bluemix_jupyter_bundle.v43/notebook/lib/python2.7/site-packages (from Lasagne>=0.1->scikit-neuralnetwork)\nRequirement already satisfied: scipy>=0.11 in /usr/local/src/bluemix_jupyter_bundle.v43/notebook/lib/python2.7/site-packages (from Theano>=0.8->scikit-neuralnetwork)\nRequirement already satisfied: six>=1.9.0 in /usr/local/src/bluemix_jupyter_bundle.v43/notebook/lib/python2.7/site-packages (from Theano>=0.8->scikit-neuralnetwork)\n"
                }
            ], 
            "execution_count": 3, 
            "source": "!pip install scikit-neuralnetwork\nfrom sknn.ae import AutoEncoder, Layer as AELayer"
        }, 
        {
            "metadata": {
                "collapsed": false
            }, 
            "cell_type": "code", 
            "outputs": [
                {
                    "metadata": {}, 
                    "output_type": "execute_result", 
                    "execution_count": 4, 
                    "data": {
                        "text/html": "<div>\n<table border=\"1\" class=\"dataframe\">\n  <thead>\n    <tr style=\"text-align: right;\">\n      <th></th>\n      <th>Material;Usura_mat_mm;Usura_mat_g;Usura_disco_g;Durezza_Disco;CodPinza;Comprex_LP;Comprex_LR;Grindo_LP;Grindo_LR;PistoneCpx;Inerzia;Press_accost;Vmax;Rendimento;Indice_misura;Attrezzatura;Raggio_ruota;Area_pistone;CodImpianto;Raggio_medio;Disco_nuovo;Disco</th>\n    </tr>\n  </thead>\n  <tbody>\n    <tr>\n      <th>0</th>\n      <td>9482;0.55;6.7;8;164;1;166;167;753;768;54;72.5;...</td>\n    </tr>\n    <tr>\n      <th>1</th>\n      <td>9799;0.54;9.7;5;169;1;194;184;740;742;54;65;0....</td>\n    </tr>\n    <tr>\n      <th>2</th>\n      <td>16136;0.5;8.9;5;196;1;196;194;768;743;54;65;0....</td>\n    </tr>\n    <tr>\n      <th>3</th>\n      <td>19269;0.36;7.9;6;194;1;194;190;0;0;54;65;0.5;1...</td>\n    </tr>\n    <tr>\n      <th>4</th>\n      <td>19269;0.58;8.8;5.4;190;1;213;195;0;0;54;72.5;0...</td>\n    </tr>\n  </tbody>\n</table>\n</div>", 
                        "text/plain": "  Material;Usura_mat_mm;Usura_mat_g;Usura_disco_g;Durezza_Disco;CodPinza;Comprex_LP;Comprex_LR;Grindo_LP;Grindo_LR;PistoneCpx;Inerzia;Press_accost;Vmax;Rendimento;Indice_misura;Attrezzatura;Raggio_ruota;Area_pistone;CodImpianto;Raggio_medio;Disco_nuovo;Disco\n0  9482;0.55;6.7;8;164;1;166;167;753;768;54;72.5;...                                                                                                                                                                                                              \n1  9799;0.54;9.7;5;169;1;194;184;740;742;54;65;0....                                                                                                                                                                                                              \n2  16136;0.5;8.9;5;196;1;196;194;768;743;54;65;0....                                                                                                                                                                                                              \n3  19269;0.36;7.9;6;194;1;194;190;0;0;54;65;0.5;1...                                                                                                                                                                                                              \n4  19269;0.58;8.8;5.4;190;1;213;195;0;0;54;72.5;0...                                                                                                                                                                                                              "
                    }
                }
            ], 
            "execution_count": 4, 
            "source": "# The code was removed by DSX for sharing."
        }, 
        {
            "metadata": {
                "collapsed": false
            }, 
            "cell_type": "code", 
            "outputs": [
                {
                    "output_type": "error", 
                    "traceback": [
                        "\u001b[1;31m\u001b[0m", 
                        "\u001b[1;31mNotImplementedError\u001b[0mTraceback (most recent call last)", 
                        "\u001b[1;32m<ipython-input-6-7cc6baa49944>\u001b[0m in \u001b[0;36m<module>\u001b[1;34m()\u001b[0m\n\u001b[0;32m      8\u001b[0m \u001b[0mh\u001b[0m \u001b[1;33m=\u001b[0m \u001b[0mAELayer\u001b[0m\u001b[1;33m(\u001b[0m\u001b[0mactivation\u001b[0m\u001b[1;33m=\u001b[0m\u001b[1;34m'Sigmoid'\u001b[0m\u001b[1;33m,\u001b[0m \u001b[0munits\u001b[0m\u001b[1;33m=\u001b[0m\u001b[0mhidden_units\u001b[0m\u001b[1;33m)\u001b[0m\u001b[1;33m\u001b[0m\u001b[0m\n\u001b[0;32m      9\u001b[0m \u001b[0mx\u001b[0m \u001b[1;33m=\u001b[0m \u001b[0mAELayer\u001b[0m\u001b[1;33m(\u001b[0m\u001b[0mactivation\u001b[0m\u001b[1;33m=\u001b[0m\u001b[1;34m'Tanh'\u001b[0m\u001b[1;33m,\u001b[0m \u001b[0munits\u001b[0m\u001b[1;33m=\u001b[0m\u001b[0minput_layer\u001b[0m\u001b[1;33m)\u001b[0m\u001b[1;33m\u001b[0m\u001b[0m\n\u001b[1;32m---> 10\u001b[1;33m \u001b[0mautoencoder\u001b[0m \u001b[1;33m=\u001b[0m \u001b[0mAutoEncoder\u001b[0m\u001b[1;33m(\u001b[0m\u001b[0mlayers\u001b[0m\u001b[1;33m=\u001b[0m\u001b[1;33m[\u001b[0m\u001b[0mx\u001b[0m\u001b[1;33m,\u001b[0m\u001b[0mh\u001b[0m\u001b[1;33m]\u001b[0m\u001b[1;33m,\u001b[0m \u001b[0mn_iter\u001b[0m\u001b[1;33m=\u001b[0m\u001b[0mn_iter\u001b[0m\u001b[1;33m)\u001b[0m\u001b[1;33m\u001b[0m\u001b[0m\n\u001b[0m\u001b[0;32m     11\u001b[0m \u001b[1;33m\u001b[0m\u001b[0m\n\u001b[0;32m     12\u001b[0m \u001b[0mautoencoder\u001b[0m\u001b[1;33m.\u001b[0m\u001b[0mfit\u001b[0m\u001b[1;33m(\u001b[0m\u001b[0mdf_data_1\u001b[0m\u001b[1;33m)\u001b[0m\u001b[1;33m\u001b[0m\u001b[0m\n", 
                        "\u001b[1;32m/gpfs/fs01/user/s5bb-8b7facce6d128f-9bc09e5c3e7f/.local/lib/python2.7/site-packages/sknn/nn.pyc\u001b[0m in \u001b[0;36m__init__\u001b[1;34m(self, layers, warning, parameters, random_state, learning_rule, learning_rate, learning_momentum, normalize, regularize, weight_decay, dropout_rate, batch_size, n_iter, n_stable, f_stable, valid_set, valid_size, loss_type, callback, debug, verbose, **params)\u001b[0m\n\u001b[0;32m    511\u001b[0m         \u001b[0mself\u001b[0m\u001b[1;33m.\u001b[0m\u001b[0m_backend\u001b[0m \u001b[1;33m=\u001b[0m \u001b[0mNone\u001b[0m\u001b[1;33m\u001b[0m\u001b[0m\n\u001b[0;32m    512\u001b[0m         \u001b[0mself\u001b[0m\u001b[1;33m.\u001b[0m\u001b[0m_create_logger\u001b[0m\u001b[1;33m(\u001b[0m\u001b[1;33m)\u001b[0m\u001b[1;33m\u001b[0m\u001b[0m\n\u001b[1;32m--> 513\u001b[1;33m         \u001b[0mself\u001b[0m\u001b[1;33m.\u001b[0m\u001b[0m_setup\u001b[0m\u001b[1;33m(\u001b[0m\u001b[1;33m)\u001b[0m\u001b[1;33m\u001b[0m\u001b[0m\n\u001b[0m\u001b[0;32m    514\u001b[0m \u001b[1;33m\u001b[0m\u001b[0m\n\u001b[0;32m    515\u001b[0m     \u001b[1;32mdef\u001b[0m \u001b[0m_setup\u001b[0m\u001b[1;33m(\u001b[0m\u001b[0mself\u001b[0m\u001b[1;33m)\u001b[0m\u001b[1;33m:\u001b[0m\u001b[1;33m\u001b[0m\u001b[0m\n", 
                        "\u001b[1;32m/gpfs/fs01/user/s5bb-8b7facce6d128f-9bc09e5c3e7f/.local/lib/python2.7/site-packages/sknn/ae.pyc\u001b[0m in \u001b[0;36m_setup\u001b[1;34m(self)\u001b[0m\n\u001b[0;32m     99\u001b[0m \u001b[1;33m\u001b[0m\u001b[0m\n\u001b[0;32m    100\u001b[0m         \u001b[0mbackend\u001b[0m\u001b[1;33m.\u001b[0m\u001b[0msetup\u001b[0m\u001b[1;33m(\u001b[0m\u001b[1;33m)\u001b[0m\u001b[1;33m\u001b[0m\u001b[0m\n\u001b[1;32m--> 101\u001b[1;33m         \u001b[0mself\u001b[0m\u001b[1;33m.\u001b[0m\u001b[0m_backend\u001b[0m \u001b[1;33m=\u001b[0m \u001b[0mbackend\u001b[0m\u001b[1;33m.\u001b[0m\u001b[0mAutoEncoderBackend\u001b[0m\u001b[1;33m(\u001b[0m\u001b[0mself\u001b[0m\u001b[1;33m)\u001b[0m\u001b[1;33m\u001b[0m\u001b[0m\n\u001b[0m\u001b[0;32m    102\u001b[0m \u001b[1;33m\u001b[0m\u001b[0m\n\u001b[0;32m    103\u001b[0m     \u001b[1;32mdef\u001b[0m \u001b[0mfit\u001b[0m\u001b[1;33m(\u001b[0m\u001b[0mself\u001b[0m\u001b[1;33m,\u001b[0m \u001b[0mX\u001b[0m\u001b[1;33m)\u001b[0m\u001b[1;33m:\u001b[0m\u001b[1;33m\u001b[0m\u001b[0m\n", 
                        "\u001b[1;32m/gpfs/fs01/user/s5bb-8b7facce6d128f-9bc09e5c3e7f/.local/lib/python2.7/site-packages/sknn/backend/__init__.pyc\u001b[0m in \u001b[0;36m__init__\u001b[1;34m(self, _)\u001b[0m\n\u001b[0;32m     16\u001b[0m \u001b[1;32mclass\u001b[0m \u001b[0mAutoEncoderBackend\u001b[0m\u001b[1;33m(\u001b[0m\u001b[0mobject\u001b[0m\u001b[1;33m)\u001b[0m\u001b[1;33m:\u001b[0m\u001b[1;33m\u001b[0m\u001b[0m\n\u001b[0;32m     17\u001b[0m     \u001b[1;32mdef\u001b[0m \u001b[0m__init__\u001b[0m\u001b[1;33m(\u001b[0m\u001b[0mself\u001b[0m\u001b[1;33m,\u001b[0m \u001b[0m_\u001b[0m\u001b[1;33m)\u001b[0m\u001b[1;33m:\u001b[0m\u001b[1;33m\u001b[0m\u001b[0m\n\u001b[1;32m---> 18\u001b[1;33m         \u001b[1;32mraise\u001b[0m \u001b[0mNotImplementedError\u001b[0m\u001b[1;33m(\u001b[0m\u001b[1;34m\"No backend sub-module imported.\"\u001b[0m\u001b[1;33m)\u001b[0m\u001b[1;33m\u001b[0m\u001b[0m\n\u001b[0m\u001b[0;32m     19\u001b[0m \u001b[1;33m\u001b[0m\u001b[0m\n\u001b[0;32m     20\u001b[0m \u001b[1;33m\u001b[0m\u001b[0m\n", 
                        "\u001b[1;31mNotImplementedError\u001b[0m: No backend sub-module imported."
                    ], 
                    "ename": "NotImplementedError", 
                    "evalue": "No backend sub-module imported."
                }
            ], 
            "execution_count": 6, 
            "source": "# AE Config\ninput_layer = 500\nhidden_units = 30\nlearning_rate = 0.001\nn_iter = 10\nmomentum=0.9\n\nh = AELayer(activation='Sigmoid', units=hidden_units)\nx = AELayer(activation='Tanh', units=input_layer)\nautoencoder = AutoEncoder(layers=[x,h], n_iter=n_iter)\n\nautoencoder.fit(df_data_1)"
        }, 
        {
            "metadata": {
                "collapsed": true
            }, 
            "cell_type": "code", 
            "outputs": [], 
            "execution_count": null, 
            "source": "# https://github.com/aigamedev/scikit-neuralnetwork/issues/129"
        }
    ], 
    "nbformat_minor": 0, 
    "nbformat": 4
}