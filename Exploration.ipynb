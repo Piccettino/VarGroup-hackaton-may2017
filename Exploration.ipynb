{
    "metadata": {
        "kernelspec": {
            "language": "python", 
            "display_name": "Python 2 with Spark 2.0", 
            "name": "python2-spark20"
        }, 
        "language_info": {
            "version": "2.7.11", 
            "pygments_lexer": "ipython2", 
            "nbconvert_exporter": "python", 
            "name": "python", 
            "file_extension": ".py", 
            "mimetype": "text/x-python", 
            "codemirror_mode": {
                "version": 2, 
                "name": "ipython"
            }
        }
    }, 
    "cells": [
        {
            "execution_count": 21, 
            "cell_type": "code", 
            "source": "import pandas as pd\nimport numpy as np\nfrom sklearn.decomposition import PCA\nimport matplotlib.pyplot as plt\n%matplotlib inline", 
            "metadata": {
                "collapsed": true
            }, 
            "outputs": []
        }, 
        {
            "execution_count": 2, 
            "cell_type": "code", 
            "source": "# The code was removed by DSX for sharing.", 
            "metadata": {
                "collapsed": false
            }, 
            "outputs": [
                {
                    "execution_count": 2, 
                    "data": {
                        "text/html": "<div>\n<table border=\"1\" class=\"dataframe\">\n  <thead>\n    <tr style=\"text-align: right;\">\n      <th></th>\n      <th>0</th>\n      <th>1</th>\n      <th>2</th>\n      <th>3</th>\n      <th>4</th>\n      <th>5</th>\n      <th>6</th>\n      <th>7</th>\n      <th>8</th>\n      <th>9</th>\n      <th>...</th>\n      <th>78</th>\n      <th>79</th>\n      <th>80</th>\n      <th>81</th>\n      <th>82</th>\n      <th>83</th>\n      <th>84</th>\n      <th>85</th>\n      <th>86</th>\n      <th>87</th>\n    </tr>\n  </thead>\n  <tbody>\n    <tr>\n      <th>0</th>\n      <td>8951</td>\n      <td>1745</td>\n      <td>1.74</td>\n      <td>65</td>\n      <td>6439</td>\n      <td>6.43</td>\n      <td>65</td>\n      <td>6511</td>\n      <td>6.51</td>\n      <td>65</td>\n      <td>...</td>\n      <td>0</td>\n      <td>0</td>\n      <td>0</td>\n      <td>0</td>\n      <td>0</td>\n      <td>0</td>\n      <td>0</td>\n      <td>0</td>\n      <td>0</td>\n      <td>0</td>\n    </tr>\n    <tr>\n      <th>1</th>\n      <td>8997</td>\n      <td>1515</td>\n      <td>1.51</td>\n      <td>67</td>\n      <td>1745</td>\n      <td>1.74</td>\n      <td>65</td>\n      <td>4503</td>\n      <td>4.50</td>\n      <td>67</td>\n      <td>...</td>\n      <td>0</td>\n      <td>0</td>\n      <td>0</td>\n      <td>0</td>\n      <td>0</td>\n      <td>0</td>\n      <td>0</td>\n      <td>0</td>\n      <td>0</td>\n      <td>0</td>\n    </tr>\n    <tr>\n      <th>2</th>\n      <td>9024</td>\n      <td>1745</td>\n      <td>1.74</td>\n      <td>65</td>\n      <td>6439</td>\n      <td>6.43</td>\n      <td>65</td>\n      <td>6511</td>\n      <td>6.51</td>\n      <td>65</td>\n      <td>...</td>\n      <td>0</td>\n      <td>0</td>\n      <td>0</td>\n      <td>0</td>\n      <td>0</td>\n      <td>0</td>\n      <td>0</td>\n      <td>0</td>\n      <td>0</td>\n      <td>0</td>\n    </tr>\n    <tr>\n      <th>3</th>\n      <td>9043</td>\n      <td>1745</td>\n      <td>1.74</td>\n      <td>65</td>\n      <td>6303</td>\n      <td>6.30</td>\n      <td>65</td>\n      <td>6439</td>\n      <td>6.43</td>\n      <td>65</td>\n      <td>...</td>\n      <td>0</td>\n      <td>0</td>\n      <td>0</td>\n      <td>0</td>\n      <td>0</td>\n      <td>0</td>\n      <td>0</td>\n      <td>0</td>\n      <td>0</td>\n      <td>0</td>\n    </tr>\n    <tr>\n      <th>4</th>\n      <td>9313</td>\n      <td>1745</td>\n      <td>1.74</td>\n      <td>65</td>\n      <td>6439</td>\n      <td>6.43</td>\n      <td>65</td>\n      <td>6511</td>\n      <td>6.51</td>\n      <td>65</td>\n      <td>...</td>\n      <td>0</td>\n      <td>0</td>\n      <td>0</td>\n      <td>0</td>\n      <td>0</td>\n      <td>0</td>\n      <td>0</td>\n      <td>0</td>\n      <td>0</td>\n      <td>0</td>\n    </tr>\n  </tbody>\n</table>\n<p>5 rows \u00d7 88 columns</p>\n</div>", 
                        "text/plain": "     0     1     2   3     4     5   6     7     8   9  ...  78  79  80  81  \\\n0  8951  1745  1.74  65  6439  6.43  65  6511  6.51  65 ...   0   0   0   0   \n1  8997  1515  1.51  67  1745  1.74  65  4503  4.50  67 ...   0   0   0   0   \n2  9024  1745  1.74  65  6439  6.43  65  6511  6.51  65 ...   0   0   0   0   \n3  9043  1745  1.74  65  6303  6.30  65  6439  6.43  65 ...   0   0   0   0   \n4  9313  1745  1.74  65  6439  6.43  65  6511  6.51  65 ...   0   0   0   0   \n\n   82  83  84  85  86  87  \n0   0   0   0   0   0   0  \n1   0   0   0   0   0   0  \n2   0   0   0   0   0   0  \n3   0   0   0   0   0   0  \n4   0   0   0   0   0   0  \n\n[5 rows x 88 columns]"
                    }, 
                    "metadata": {}, 
                    "output_type": "execute_result"
                }
            ]
        }, 
        {
            "execution_count": 3, 
            "cell_type": "code", 
            "source": "print df_data_1.shape", 
            "metadata": {
                "collapsed": false
            }, 
            "outputs": [
                {
                    "output_type": "stream", 
                    "name": "stdout", 
                    "text": "(482, 88)\n"
                }
            ]
        }, 
        {
            "execution_count": 4, 
            "cell_type": "code", 
            "source": "mp_set = set([])\nfor i in np.arange(1,87, 3):\n    df_data_1[i] = df_data_1[i].astype(int)\n    tmp = set(df_data_1[i].unique())\n    mp_set = mp_set | tmp \n\nmp_set = mp_set - set([0])\nprint \"Il numero di materie prime \u00e8 \" + str(len(mp_set))", 
            "metadata": {
                "collapsed": false
            }, 
            "outputs": [
                {
                    "output_type": "stream", 
                    "name": "stdout", 
                    "text": "Il numero di materie prime \u00e8 375\n"
                }
            ]
        }, 
        {
            "execution_count": 5, 
            "cell_type": "code", 
            "source": "gr_set = set([])\nfor i in np.arange(3,88, 3):\n    df_data_1[i] = df_data_1[i].astype(int)\n    tmp = set(df_data_1[i].unique())\n    gr_set = gr_set | tmp\n    \ngr_set = gr_set - set([0])\nprint \"Il numero di gruppi \u00e8 \" + str(len(gr_set))", 
            "metadata": {
                "collapsed": false
            }, 
            "outputs": [
                {
                    "output_type": "stream", 
                    "name": "stdout", 
                    "text": "Il numero di gruppi \u00e8 9\n"
                }
            ]
        }, 
        {
            "execution_count": 6, 
            "cell_type": "code", 
            "source": "my_dict = {}\n\nfor index,row in df_data_1.iterrows():\n    my_row = {}\n    tmp = 0\n    for i in np.arange(2,87, 3):\n        tmp += row[i] \n        if row[i]!= 0:\n            my_row[str(int(row[i-1]))+\"_\"+str(int(row[i+1]))] = row[i]\n    my_dict[row[0]] = my_row\n    \ndf_data2 = pd.DataFrame.from_dict(my_dict, 'index').fillna(0)\nprint df_data2.shape\ndf_data2.head()", 
            "metadata": {
                "collapsed": false
            }, 
            "outputs": [
                {
                    "output_type": "stream", 
                    "name": "stdout", 
                    "text": "(482, 650)\n"
                }, 
                {
                    "execution_count": 6, 
                    "data": {
                        "text/html": "<div>\n<table border=\"1\" class=\"dataframe\">\n  <thead>\n    <tr style=\"text-align: right;\">\n      <th></th>\n      <th>32488_67</th>\n      <th>15015_65</th>\n      <th>6439_65</th>\n      <th>13709_65</th>\n      <th>16637_65</th>\n      <th>32322_66</th>\n      <th>15027_65</th>\n      <th>6303_65</th>\n      <th>1739_65</th>\n      <th>1745_65</th>\n      <th>...</th>\n      <th>34622_65</th>\n      <th>34545_65</th>\n      <th>34917_66</th>\n      <th>32597_67</th>\n      <th>35588_67</th>\n      <th>32912_51</th>\n      <th>34283_66</th>\n      <th>32938_67</th>\n      <th>32936_67</th>\n      <th>32579_67</th>\n    </tr>\n  </thead>\n  <tbody>\n    <tr>\n      <th>8951</th>\n      <td>0</td>\n      <td>15.01</td>\n      <td>6.43</td>\n      <td>13.7</td>\n      <td>0</td>\n      <td>0.00</td>\n      <td>15.02</td>\n      <td>0.0</td>\n      <td>0</td>\n      <td>1.74</td>\n      <td>...</td>\n      <td>0</td>\n      <td>0</td>\n      <td>0</td>\n      <td>0</td>\n      <td>0</td>\n      <td>0</td>\n      <td>0</td>\n      <td>0</td>\n      <td>0</td>\n      <td>0</td>\n    </tr>\n    <tr>\n      <th>8997</th>\n      <td>0</td>\n      <td>0.00</td>\n      <td>0.00</td>\n      <td>0.0</td>\n      <td>0</td>\n      <td>0.00</td>\n      <td>0.00</td>\n      <td>0.0</td>\n      <td>0</td>\n      <td>1.74</td>\n      <td>...</td>\n      <td>0</td>\n      <td>0</td>\n      <td>0</td>\n      <td>0</td>\n      <td>0</td>\n      <td>0</td>\n      <td>0</td>\n      <td>0</td>\n      <td>0</td>\n      <td>0</td>\n    </tr>\n    <tr>\n      <th>9024</th>\n      <td>0</td>\n      <td>15.01</td>\n      <td>6.43</td>\n      <td>13.7</td>\n      <td>0</td>\n      <td>0.00</td>\n      <td>15.02</td>\n      <td>0.0</td>\n      <td>0</td>\n      <td>1.74</td>\n      <td>...</td>\n      <td>0</td>\n      <td>0</td>\n      <td>0</td>\n      <td>0</td>\n      <td>0</td>\n      <td>0</td>\n      <td>0</td>\n      <td>0</td>\n      <td>0</td>\n      <td>0</td>\n    </tr>\n    <tr>\n      <th>9043</th>\n      <td>0</td>\n      <td>15.01</td>\n      <td>6.43</td>\n      <td>13.7</td>\n      <td>0</td>\n      <td>32.32</td>\n      <td>15.02</td>\n      <td>6.3</td>\n      <td>0</td>\n      <td>1.74</td>\n      <td>...</td>\n      <td>0</td>\n      <td>0</td>\n      <td>0</td>\n      <td>0</td>\n      <td>0</td>\n      <td>0</td>\n      <td>0</td>\n      <td>0</td>\n      <td>0</td>\n      <td>0</td>\n    </tr>\n    <tr>\n      <th>9313</th>\n      <td>0</td>\n      <td>15.01</td>\n      <td>6.43</td>\n      <td>13.7</td>\n      <td>0</td>\n      <td>0.00</td>\n      <td>15.02</td>\n      <td>0.0</td>\n      <td>0</td>\n      <td>1.74</td>\n      <td>...</td>\n      <td>0</td>\n      <td>0</td>\n      <td>0</td>\n      <td>0</td>\n      <td>0</td>\n      <td>0</td>\n      <td>0</td>\n      <td>0</td>\n      <td>0</td>\n      <td>0</td>\n    </tr>\n  </tbody>\n</table>\n<p>5 rows \u00d7 650 columns</p>\n</div>", 
                        "text/plain": "      32488_67  15015_65  6439_65  13709_65  16637_65  32322_66  15027_65  \\\n8951         0     15.01     6.43      13.7         0      0.00     15.02   \n8997         0      0.00     0.00       0.0         0      0.00      0.00   \n9024         0     15.01     6.43      13.7         0      0.00     15.02   \n9043         0     15.01     6.43      13.7         0     32.32     15.02   \n9313         0     15.01     6.43      13.7         0      0.00     15.02   \n\n      6303_65  1739_65  1745_65    ...     34622_65  34545_65  34917_66  \\\n8951      0.0        0     1.74    ...            0         0         0   \n8997      0.0        0     1.74    ...            0         0         0   \n9024      0.0        0     1.74    ...            0         0         0   \n9043      6.3        0     1.74    ...            0         0         0   \n9313      0.0        0     1.74    ...            0         0         0   \n\n      32597_67  35588_67  32912_51  34283_66  32938_67  32936_67  32579_67  \n8951         0         0         0         0         0         0         0  \n8997         0         0         0         0         0         0         0  \n9024         0         0         0         0         0         0         0  \n9043         0         0         0         0         0         0         0  \n9313         0         0         0         0         0         0         0  \n\n[5 rows x 650 columns]"
                    }, 
                    "metadata": {}, 
                    "output_type": "execute_result"
                }
            ]
        }, 
        {
            "execution_count": 10, 
            "cell_type": "code", 
            "source": "df_data2 = df_data2.div(df_data2.sum(axis= 1), axis= 0)", 
            "metadata": {
                "collapsed": false
            }, 
            "outputs": []
        }, 
        {
            "metadata": {
                "collapsed": false
            }, 
            "cell_type": "markdown", 
            "source": "for index, row in df_data2.iterrows():\n    if row.sum() != float(1.0) :\n        print 'KO'\n        print row.sum()"
        }, 
        {
            "execution_count": 33, 
            "cell_type": "code", 
            "source": "pca = PCA(n_components = df_data2.shape[1])\npca.fit(df_data2)\nexpl_var = np.array(pca.explained_variance_ratio_)\ncum_expl_var = np.cumsum(expl_var)\nprint cum_expl_var", 
            "metadata": {
                "collapsed": false
            }, 
            "outputs": [
                {
                    "output_type": "stream", 
                    "name": "stdout", 
                    "text": "[ 0.11306963  0.16648004  0.21218549  0.25196749  0.29104976  0.3280705\n  0.36222531  0.39296933  0.42277213  0.44579811  0.46739887  0.48652823\n  0.50464541  0.52076207  0.53580302  0.55018222  0.56370628  0.57650199\n  0.58781663  0.59867141  0.60912139  0.61855731  0.62770943  0.63625087\n  0.64452859  0.6524386   0.65996862  0.667273    0.67439918  0.68122038\n  0.68790119  0.69408411  0.70014532  0.70599773  0.7115013   0.71682632\n  0.72215097  0.72726687  0.73219889  0.73705666  0.74188523  0.74659359\n  0.7510443   0.75536425  0.75944766  0.76349804  0.76747087  0.77138081\n  0.77517119  0.77890558  0.78262512  0.78634466  0.7900642   0.79377741\n  0.79748657  0.80116177  0.80474483  0.80821648  0.81157007  0.81477232\n  0.81790775  0.82094553  0.82380484  0.82656863  0.82925168  0.83191947\n  0.8345252   0.83710902  0.83960859  0.84206619  0.84451367  0.84688972\n  0.84922445  0.85148862  0.85367609  0.85582562  0.85791531  0.85999168\n  0.8619846   0.86391852  0.86584683  0.86775123  0.86961085  0.87144878\n  0.87323949  0.87500176  0.87672804  0.87842108  0.88008097  0.881724\n  0.88336462  0.88496758  0.88655184  0.88808737  0.88958006  0.8910428\n  0.89248727  0.89391306  0.89530757  0.89668566  0.89805525  0.89937193\n  0.90067752  0.90195205  0.90321277  0.90446229  0.90567187  0.90687019\n  0.90804042  0.90919214  0.91032475  0.91143346  0.91253522  0.91360737\n  0.91465838  0.91570212  0.91671562  0.91771373  0.91870408  0.91967879\n  0.92064701  0.92160965  0.92255822  0.92349242  0.92442097  0.92533698\n  0.92624653  0.92712488  0.927998    0.92886613  0.9297145   0.93055763\n  0.93139627  0.93223133  0.93305975  0.93386497  0.93465457  0.93544178\n  0.93622565  0.93699421  0.93775426  0.93851199  0.93926658  0.94001475\n  0.94075155  0.94148125  0.94221095  0.94294065  0.94367035  0.94440006\n  0.94512853  0.94585331  0.94657603  0.94728563  0.94799258  0.9486919\n  0.94938327  0.9500668   0.95074634  0.95142326  0.9520871   0.95274374\n  0.95339332  0.95403651  0.95467606  0.95530662  0.95592988  0.95654627\n  0.95715007  0.95775296  0.95835165  0.95894736  0.95953854  0.96012695\n  0.96070692  0.96127762  0.96183476  0.96238769  0.96293572  0.96347838\n  0.96401303  0.96453918  0.96505739  0.96556791  0.96607533  0.96657992\n  0.96707612  0.96757015  0.96806073  0.96854645  0.96902761  0.96950355\n  0.96997368  0.97044241  0.97091069  0.97137778  0.97183911  0.97229457\n  0.97274266  0.97318349  0.97362197  0.97405448  0.97448514  0.9749053\n  0.9753161   0.97572622  0.97611762  0.97650197  0.97687964  0.97725544\n  0.97762879  0.97799339  0.97835628  0.97871789  0.97907818  0.97943467\n  0.97978269  0.98012324  0.98046003  0.98079513  0.98112742  0.9814597\n  0.98178146  0.98210037  0.98241661  0.98273215  0.98304366  0.98335072\n  0.98365738  0.98395605  0.98424393  0.98452918  0.98481207  0.98509491\n  0.98537766  0.9856604   0.98594315  0.98622288  0.98650193  0.98677577\n  0.98704599  0.98731072  0.9875697   0.98782804  0.98808178  0.98833168\n  0.98857606  0.98881678  0.98905592  0.98929166  0.98952395  0.98975031\n  0.98997492  0.9901954   0.99041048  0.99062041  0.9908274   0.99103187\n  0.99123316  0.99142891  0.99162266  0.99181179  0.99199596  0.99217565\n  0.99235294  0.99252522  0.99269556  0.99286311  0.99302671  0.99318982\n  0.99334919  0.99350544  0.9936561   0.99380293  0.99394858  0.99409039\n  0.99422989  0.99436637  0.99449912  0.99463174  0.9947625   0.99489231\n  0.99501593  0.99513881  0.99526145  0.99538087  0.99549757  0.99561225\n  0.9957239   0.99583335  0.9959386   0.99604348  0.99614777  0.99624958\n  0.99634821  0.99644573  0.99654274  0.99663729  0.99672925  0.99681925\n  0.99690875  0.99699658  0.99708262  0.99716676  0.99725032  0.99733367\n  0.99741392  0.99749216  0.99756997  0.99764593  0.99772082  0.99779544\n  0.99786795  0.99793953  0.99800844  0.99807512  0.99814064  0.99820565\n  0.99826949  0.99833164  0.99839308  0.99845201  0.99850841  0.99856408\n  0.99861753  0.9986703   0.99872085  0.99876975  0.99881746  0.99886304\n  0.9989075   0.99895132  0.99899363  0.99903506  0.9990757   0.99911542\n  0.99915349  0.99919138  0.99922867  0.99926513  0.99930016  0.99933343\n  0.99936594  0.99939624  0.99942642  0.99945555  0.99948389  0.99951123\n  0.99953722  0.99956144  0.99958499  0.99960781  0.99962996  0.99965085\n  0.99967061  0.99968932  0.99970733  0.99972456  0.99974031  0.99975582\n  0.99977056  0.99978445  0.99979731  0.9998099   0.99982213  0.99983417\n  0.99984578  0.99985665  0.99986695  0.99987691  0.99988595  0.99989472\n  0.99990293  0.99991061  0.99991794  0.99992486  0.99993133  0.99993751\n  0.99994334  0.9999489   0.99995403  0.99995892  0.99996351  0.99996741\n  0.99997107  0.99997424  0.99997737  0.99998028  0.99998294  0.99998556\n  0.99998778  0.9999899   0.99999171  0.99999329  0.99999469  0.99999588\n  0.99999693  0.99999789  0.99999858  0.99999912  0.99999954  0.99999984\n  1.          1.          1.          1.          1.          1.          1.\n  1.          1.          1.          1.          1.          1.          1.\n  1.          1.          1.          1.          1.          1.          1.\n  1.          1.          1.          1.          1.          1.          1.\n  1.          1.          1.          1.          1.          1.          1.\n  1.          1.          1.          1.          1.          1.          1.\n  1.          1.          1.          1.          1.          1.          1.\n  1.          1.          1.          1.          1.          1.          1.\n  1.          1.          1.          1.          1.          1.          1.\n  1.          1.          1.          1.          1.          1.          1.\n  1.          1.          1.          1.          1.          1.          1.\n  1.          1.          1.        ]\n"
                }
            ]
        }, 
        {
            "execution_count": 32, 
            "cell_type": "code", 
            "source": "x = np.arange(cum_expl_var.shape[0])\ny = cum_expl_var\nplt.plot(x,y)", 
            "metadata": {
                "collapsed": false
            }, 
            "outputs": [
                {
                    "execution_count": 32, 
                    "data": {
                        "text/plain": "[<matplotlib.lines.Line2D at 0x7f1e017fa7d0>]"
                    }, 
                    "metadata": {}, 
                    "output_type": "execute_result"
                }, 
                {
                    "metadata": {}, 
                    "data": {
                        "text/plain": "<matplotlib.figure.Figure at 0x7f1e06dadc10>", 
                        "image/png": "[encoded data removed]"
                    }, 
                    "output_type": "display_data"
                }
            ]
        }, 
        {
            "execution_count": 36, 
            "cell_type": "code", 
            "source": "def num_components(cum_var, thrs):\n    return (cum_var < thrs).sum()", 
            "metadata": {
                "collapsed": true
            }, 
            "outputs": []
        }, 
        {
            "execution_count": 37, 
            "cell_type": "code", 
            "source": "print num_components(cum_expl_var, 0.94)\nprint num_components(cum_expl_var, 0.95)\nprint num_components(cum_expl_var, 0.96)\nprint num_components(cum_expl_var, 0.97)\nprint num_components(cum_expl_var, 0.98)\nprint num_components(cum_expl_var, 0.99)", 
            "metadata": {
                "collapsed": false
            }, 
            "outputs": [
                {
                    "output_type": "stream", 
                    "name": "stdout", 
                    "text": "143\n157\n173\n193\n217\n253\n"
                }
            ]
        }, 
        {
            "execution_count": 38, 
            "cell_type": "code", 
            "source": "pca = PCA(n_components = num_components(cum_expl_var, 0.97))\nx_trasf = pca.fit_transform(df_data2)\nexpl_var = np.array(pca.explained_variance_ratio_)\ncum_expl_var = np.cumsum(expl_var)\nprint cum_expl_var", 
            "metadata": {
                "collapsed": false
            }, 
            "outputs": [
                {
                    "output_type": "stream", 
                    "name": "stdout", 
                    "text": "[ 0.11306963  0.16648004  0.21218549  0.25196749  0.29104976  0.3280705\n  0.36222531  0.39296933  0.42277213  0.44579811  0.46739887  0.48652823\n  0.50464541  0.52076207  0.53580302  0.55018222  0.56370628  0.57650199\n  0.58781663  0.59867141  0.60912139  0.61855731  0.62770943  0.63625087\n  0.64452859  0.6524386   0.65996862  0.667273    0.67439918  0.68122038\n  0.68790119  0.69408411  0.70014532  0.70599773  0.7115013   0.71682632\n  0.72215097  0.72726687  0.73219889  0.73705666  0.74188523  0.74659359\n  0.7510443   0.75536425  0.75944766  0.76349804  0.76747087  0.77138081\n  0.77517119  0.77890558  0.78262512  0.78634466  0.7900642   0.79377741\n  0.79748657  0.80116177  0.80474483  0.80821648  0.81157007  0.81477232\n  0.81790775  0.82094553  0.82380484  0.82656863  0.82925168  0.83191947\n  0.8345252   0.83710902  0.83960859  0.84206619  0.84451367  0.84688972\n  0.84922445  0.85148862  0.85367609  0.85582562  0.85791531  0.85999168\n  0.8619846   0.86391852  0.86584683  0.86775123  0.86961085  0.87144878\n  0.87323949  0.87500176  0.87672804  0.87842108  0.88008097  0.881724\n  0.88336462  0.88496758  0.88655184  0.88808737  0.88958006  0.8910428\n  0.89248727  0.89391306  0.89530757  0.89668566  0.89805525  0.89937193\n  0.90067752  0.90195205  0.90321277  0.90446229  0.90567187  0.90687019\n  0.90804042  0.90919214  0.91032475  0.91143346  0.91253522  0.91360737\n  0.91465838  0.91570212  0.91671562  0.91771373  0.91870408  0.91967879\n  0.92064701  0.92160965  0.92255822  0.92349242  0.92442097  0.92533698\n  0.92624653  0.92712488  0.927998    0.92886613  0.9297145   0.93055763\n  0.93139627  0.93223133  0.93305975  0.93386497  0.93465457  0.93544178\n  0.93622565  0.93699421  0.93775426  0.93851199  0.93926658  0.94001475\n  0.94075155  0.94148125  0.94221095  0.94294065  0.94367035  0.94440006\n  0.94512853  0.94585331  0.94657603  0.94728563  0.94799258  0.9486919\n  0.94938327  0.9500668   0.95074634  0.95142326  0.9520871   0.95274374\n  0.95339332  0.95403651  0.95467606  0.95530662  0.95592988  0.95654627\n  0.95715007  0.95775296  0.95835165  0.95894736  0.95953854  0.96012695\n  0.96070692  0.96127762  0.96183476  0.96238769  0.96293572  0.96347838\n  0.96401303  0.96453918  0.96505739  0.96556791  0.96607533  0.96657992\n  0.96707612  0.96757015  0.96806073  0.96854645  0.96902761  0.96950355\n  0.96997368]\n"
                }
            ]
        }, 
        {
            "execution_count": 41, 
            "cell_type": "code", 
            "source": "df_data3 = pd.DataFrame(x_trasf, index = df_data2.index)\nprint df_data3.shape\ndf_data3.head()", 
            "metadata": {
                "collapsed": false
            }, 
            "outputs": [
                {
                    "output_type": "stream", 
                    "name": "stdout", 
                    "text": "(482, 193)\n"
                }, 
                {
                    "execution_count": 41, 
                    "data": {
                        "text/html": "<div>\n<table border=\"1\" class=\"dataframe\">\n  <thead>\n    <tr style=\"text-align: right;\">\n      <th></th>\n      <th>0</th>\n      <th>1</th>\n      <th>2</th>\n      <th>3</th>\n      <th>4</th>\n      <th>5</th>\n      <th>6</th>\n      <th>7</th>\n      <th>8</th>\n      <th>9</th>\n      <th>...</th>\n      <th>183</th>\n      <th>184</th>\n      <th>185</th>\n      <th>186</th>\n      <th>187</th>\n      <th>188</th>\n      <th>189</th>\n      <th>190</th>\n      <th>191</th>\n      <th>192</th>\n    </tr>\n  </thead>\n  <tbody>\n    <tr>\n      <th>8951</th>\n      <td>0.042246</td>\n      <td>-0.005937</td>\n      <td>0.027117</td>\n      <td>-0.001903</td>\n      <td>0.013791</td>\n      <td>-0.022353</td>\n      <td>0.063907</td>\n      <td>-0.023371</td>\n      <td>0.004564</td>\n      <td>-0.012443</td>\n      <td>...</td>\n      <td>0.000227</td>\n      <td>0.000112</td>\n      <td>0.000044</td>\n      <td>0.000041</td>\n      <td>-0.000015</td>\n      <td>-7.860875e-07</td>\n      <td>-0.000057</td>\n      <td>-0.000066</td>\n      <td>0.000062</td>\n      <td>0.000020</td>\n    </tr>\n    <tr>\n      <th>8997</th>\n      <td>0.027176</td>\n      <td>0.087921</td>\n      <td>-0.077450</td>\n      <td>0.032441</td>\n      <td>0.005934</td>\n      <td>0.029765</td>\n      <td>0.009249</td>\n      <td>0.004650</td>\n      <td>-0.003320</td>\n      <td>0.016842</td>\n      <td>...</td>\n      <td>-0.008613</td>\n      <td>-0.012683</td>\n      <td>0.004724</td>\n      <td>0.008423</td>\n      <td>0.006751</td>\n      <td>-1.920840e-03</td>\n      <td>-0.006889</td>\n      <td>-0.004928</td>\n      <td>-0.010872</td>\n      <td>-0.005499</td>\n    </tr>\n    <tr>\n      <th>9024</th>\n      <td>0.042246</td>\n      <td>-0.005937</td>\n      <td>0.027117</td>\n      <td>-0.001903</td>\n      <td>0.013791</td>\n      <td>-0.022353</td>\n      <td>0.063907</td>\n      <td>-0.023371</td>\n      <td>0.004564</td>\n      <td>-0.012443</td>\n      <td>...</td>\n      <td>0.000227</td>\n      <td>0.000112</td>\n      <td>0.000044</td>\n      <td>0.000041</td>\n      <td>-0.000015</td>\n      <td>-7.860875e-07</td>\n      <td>-0.000057</td>\n      <td>-0.000066</td>\n      <td>0.000062</td>\n      <td>0.000020</td>\n    </tr>\n    <tr>\n      <th>9043</th>\n      <td>0.052750</td>\n      <td>0.002831</td>\n      <td>0.037146</td>\n      <td>-0.011094</td>\n      <td>0.035755</td>\n      <td>-0.066244</td>\n      <td>0.203717</td>\n      <td>-0.099144</td>\n      <td>0.056779</td>\n      <td>-0.056352</td>\n      <td>...</td>\n      <td>-0.004587</td>\n      <td>-0.000884</td>\n      <td>-0.000036</td>\n      <td>-0.000659</td>\n      <td>-0.000442</td>\n      <td>-4.274769e-04</td>\n      <td>0.000617</td>\n      <td>0.000255</td>\n      <td>-0.000725</td>\n      <td>0.002245</td>\n    </tr>\n    <tr>\n      <th>9313</th>\n      <td>0.042074</td>\n      <td>-0.005888</td>\n      <td>0.026843</td>\n      <td>-0.001879</td>\n      <td>0.013626</td>\n      <td>-0.022069</td>\n      <td>0.063027</td>\n      <td>-0.023009</td>\n      <td>0.004487</td>\n      <td>-0.012187</td>\n      <td>...</td>\n      <td>-0.001677</td>\n      <td>-0.000871</td>\n      <td>-0.000362</td>\n      <td>-0.000424</td>\n      <td>0.000138</td>\n      <td>2.836292e-06</td>\n      <td>0.000862</td>\n      <td>0.001160</td>\n      <td>-0.001382</td>\n      <td>-0.000705</td>\n    </tr>\n  </tbody>\n</table>\n<p>5 rows \u00d7 193 columns</p>\n</div>", 
                        "text/plain": "           0         1         2         3         4         5         6    \\\n8951  0.042246 -0.005937  0.027117 -0.001903  0.013791 -0.022353  0.063907   \n8997  0.027176  0.087921 -0.077450  0.032441  0.005934  0.029765  0.009249   \n9024  0.042246 -0.005937  0.027117 -0.001903  0.013791 -0.022353  0.063907   \n9043  0.052750  0.002831  0.037146 -0.011094  0.035755 -0.066244  0.203717   \n9313  0.042074 -0.005888  0.026843 -0.001879  0.013626 -0.022069  0.063027   \n\n           7         8         9      ...          183       184       185  \\\n8951 -0.023371  0.004564 -0.012443    ...     0.000227  0.000112  0.000044   \n8997  0.004650 -0.003320  0.016842    ...    -0.008613 -0.012683  0.004724   \n9024 -0.023371  0.004564 -0.012443    ...     0.000227  0.000112  0.000044   \n9043 -0.099144  0.056779 -0.056352    ...    -0.004587 -0.000884 -0.000036   \n9313 -0.023009  0.004487 -0.012187    ...    -0.001677 -0.000871 -0.000362   \n\n           186       187           188       189       190       191       192  \n8951  0.000041 -0.000015 -7.860875e-07 -0.000057 -0.000066  0.000062  0.000020  \n8997  0.008423  0.006751 -1.920840e-03 -0.006889 -0.004928 -0.010872 -0.005499  \n9024  0.000041 -0.000015 -7.860875e-07 -0.000057 -0.000066  0.000062  0.000020  \n9043 -0.000659 -0.000442 -4.274769e-04  0.000617  0.000255 -0.000725  0.002245  \n9313 -0.000424  0.000138  2.836292e-06  0.000862  0.001160 -0.001382 -0.000705  \n\n[5 rows x 193 columns]"
                    }, 
                    "metadata": {}, 
                    "output_type": "execute_result"
                }
            ]
        }, 
        {
            "execution_count": 45, 
            "cell_type": "code", 
            "source": "print (x_trasf.sum(axis=1))", 
            "metadata": {
                "collapsed": false
            }, 
            "outputs": [
                {
                    "output_type": "stream", 
                    "name": "stdout", 
                    "text": "[  4.27260287e-01  -9.37698832e-02   4.27260287e-01   3.25491860e-01\n   4.63916139e-01   9.69900420e-02   2.68123830e-01   9.33785752e-02\n   2.65026104e-01   2.27134105e-01   5.51701860e-02   1.47111047e-01\n   3.71178806e-02   2.93303173e-01   3.19024607e-01   3.19024607e-01\n   3.14188193e-01   4.97019050e-02   4.97019050e-02  -4.91613000e-02\n   1.24443053e-01   1.89399490e-01   1.79266186e-01   1.05342576e-01\n   5.01374958e-02   1.62184338e-01   1.62184338e-01   8.17849535e-02\n   4.12732365e-01   1.32048757e-01   1.08651687e-01   2.67673852e-01\n  -1.62481946e-01  -2.89562181e-01  -1.53444093e-01   4.98237746e-01\n   2.29007848e-01   5.06569142e-01   3.22251752e-01   3.26295314e-01\n   3.10688792e-01  -4.72846461e-02   1.16405547e-01   2.23873188e-01\n   3.82048988e-02   1.99301594e-01  -1.07946565e-01  -1.64570804e-01\n  -8.30978986e-02  -1.78733272e-01  -1.79186062e-01  -1.06536013e-02\n  -1.76848281e-01  -3.28050012e-03   3.29736083e-01   5.02359252e-01\n   2.91622321e-01   2.28131367e-01   2.77224717e-01   1.26299369e-01\n   2.96073207e-01   2.84447574e-01   2.84447574e-01   2.83529603e-01\n   2.22163771e-01   3.21682440e-01   3.82048988e-02   1.06977061e-01\n   1.48375860e-01   1.41827606e-01   2.11622973e-01   1.48885910e-01\n   1.34019307e-01   1.46743059e-01   4.41217560e-02   3.78854116e-02\n   4.41217560e-02   4.41217560e-02   3.28270359e-01  -9.02687938e-02\n   6.37539319e-02   1.12150033e-01   1.34019307e-01   1.34019307e-01\n   3.00056497e-01   3.00056497e-01   3.00056497e-01  -1.74747182e-02\n   1.34019307e-01   1.82245732e-01   1.82245732e-01  -1.72818750e-01\n   1.45505957e-02  -2.62176412e-01   1.04135256e-01   3.87206124e-02\n   1.10038043e-01  -2.57585792e-01   1.59152978e-01  -3.05155912e-01\n  -1.00790897e-01   3.03214093e-01   3.50314318e-01   6.61439726e-01\n  -2.85836626e-01  -1.84063750e-01  -1.29851331e-01  -1.85736760e-01\n  -2.11443489e-01  -1.91870190e-01   1.65602918e-01   1.20135479e-01\n   1.03974303e-01  -1.64946048e-03  -8.86905006e-03  -6.29610850e-02\n  -5.20298755e-02   1.62856902e-01  -2.16285168e-01   1.20343697e-01\n   1.23331925e-01   3.11029162e-02   9.85920501e-02   1.91954583e-01\n   1.50391331e-01  -6.00338001e-02   4.97048991e-02  -2.44312149e-01\n   1.40870309e-01  -3.72911161e-02   1.74087876e-01   9.50807748e-02\n   6.39826919e-01   1.98121755e-01   2.12003221e-01   1.11313455e-01\n   1.11313455e-01   1.11313455e-01  -8.87627839e-02  -2.35077714e-01\n  -2.90554566e-02  -2.11890689e-01  -1.11556956e-01   1.70276527e-01\n  -2.85594020e-01   2.14692408e-01   7.53494881e-02   7.56904385e-02\n  -1.60724774e-01   1.94849413e-01  -8.39525880e-02  -6.97732683e-04\n   2.63027002e-01   1.34968997e-01  -3.96030780e-01  -1.16138366e-02\n   2.20639276e-01  -3.42468086e-01   6.33276322e-01   8.45664704e-01\n   7.73168734e-01   8.16319724e-01   8.54414590e-01   7.86502654e-02\n   8.67356489e-01   4.07697376e-01   4.80953057e-02   6.61897976e-01\n   8.45731327e-01  -3.69521000e-01   1.38957134e-01   7.23450946e-02\n  -1.31654570e-02  -2.71969341e-02  -1.63287362e-02  -3.84983965e-01\n   5.71314977e-02   8.99486833e-02   1.07094423e-01   1.37510159e-01\n  -3.34126868e-01  -8.39614537e-02  -4.17867527e-02   1.00361612e-01\n  -1.57400507e-01  -3.26929051e-01  -2.55557113e-01   3.83939582e-02\n  -3.65981049e-02  -2.85877602e-01  -2.95319875e-01  -2.37814212e-01\n   2.43233416e-01  -2.32311933e-02  -3.46759150e-01  -9.89907540e-02\n  -2.49092427e-01   4.25579549e-02   8.73867855e-01   8.45292155e-02\n  -9.06624761e-02   8.57903908e-02   4.32155401e-01   4.23183026e-01\n  -1.76420091e-01   5.49806393e-01  -3.40025795e-02   1.00981734e-01\n  -7.04080160e-02   2.70098444e-02  -2.50691604e-01  -4.24977953e-01\n   2.70098444e-02  -2.71510173e-01   2.70098444e-02   2.70098444e-02\n  -1.30115559e-01  -1.30115559e-01   1.89840956e-01  -2.45807492e-01\n   3.72143582e-01  -3.38713853e-02  -1.47160908e-01  -1.08800404e-01\n  -6.86598760e-02  -8.08128147e-02  -3.01244712e-01  -1.56642567e-02\n  -9.60158061e-03  -3.51961563e-02  -1.87902019e-01   3.67631478e-02\n  -3.33782960e-01  -3.30030269e-01  -5.02788787e-02  -8.88161083e-02\n  -4.71233615e-01  -2.70062752e-02   2.01581914e-01   3.42164330e-02\n  -1.70032071e-01  -7.15782422e-02  -2.89341440e-02  -3.21422101e-01\n  -2.84786797e-01  -6.29588665e-02  -4.04575617e-02   2.68760523e-02\n   1.12166059e-01   1.21625536e-01   1.44461202e-01  -8.46347808e-04\n   1.78676833e-02   6.78924339e-04   6.78924339e-04  -2.09996758e-01\n  -3.11639098e-01  -3.67840430e-01  -3.77500793e-01  -1.76114076e-01\n  -1.34778466e-01  -4.48263856e-01   4.47624883e-01  -1.49045141e-01\n  -1.70174978e-01   1.55867765e-02  -2.68021640e-01  -2.68615789e-01\n  -3.01244712e-01  -2.56464799e-01   6.44824505e-02  -1.05699854e-01\n  -2.76994582e-01  -2.45260824e-01   1.64315594e-02   2.26298118e-02\n   2.33149742e-02   7.75265461e-02   1.07541131e-01  -4.71573585e-01\n  -4.32450497e-01  -4.18620377e-01  -4.18620377e-01  -4.18620377e-01\n  -6.12024072e-01   1.23617748e-01  -1.07562048e-01  -1.12231157e-01\n  -2.20513838e-01  -1.93750414e-01  -6.92505197e-02  -3.41138679e-02\n  -4.99795916e-02  -7.72051762e-02   6.45508388e-01  -5.56502810e-02\n   4.96150275e-01   3.07463937e-01   6.81063046e-01  -2.82828199e-01\n   7.21461605e-01  -2.64819398e-01  -3.36156979e-01   3.49698628e-01\n  -1.58089569e-01   1.42484105e-01  -8.79740193e-02   5.02639460e-01\n   3.15848716e-01   1.40684775e-01  -4.51118773e-01  -5.08288642e-01\n  -1.13985382e-01  -1.42024873e-01  -3.43543087e-02  -1.85932885e-01\n   1.12580434e-01  -1.09236729e-01   5.37564223e-02   8.76104390e-02\n   8.76104390e-02   2.59684381e-01   5.18696452e-01   1.25481639e+00\n   8.64869949e-01   1.46012041e+00  -3.48652139e-01  -2.46625187e-01\n  -2.52953245e-01  -3.89759115e-01  -3.38410431e-01  -3.38410431e-01\n  -3.38421846e-01  -3.38421846e-01  -3.38421846e-01  -3.38421846e-01\n   2.37929822e-02   3.43367799e-01  -1.98438280e-01   5.98684695e-02\n   5.37564223e-02   2.37944662e-01   2.37944662e-01  -3.60918621e-01\n  -3.60918621e-01  -3.25739547e-01  -3.60918621e-01  -2.04811399e-01\n  -3.26562245e-01  -2.15100198e-01  -2.38668949e-01  -2.23054903e-01\n  -2.38668949e-01  -1.73403438e-01   6.53660763e-01  -2.12913074e-01\n  -2.91953533e-01  -3.25538364e-01  -5.01588604e-01  -8.28424045e-02\n   5.57307732e-01  -4.49498622e-01  -1.71536463e-01   5.44192093e-01\n  -2.89598473e-01  -1.93109838e-01  -2.03613038e-01  -2.43412126e-01\n  -1.69583680e-01  -2.15100198e-01   3.65039235e-02  -1.66312631e-01\n  -8.70102420e-02   7.91214033e-02  -9.72312116e-02  -4.69445075e-02\n  -2.38514342e-01  -4.91173859e-01  -3.88057036e-01  -3.99446143e-01\n  -5.06698148e-01  -3.85959580e-01  -1.65857195e-01  -3.10279052e-01\n  -4.50828971e-01   1.37844228e-02   1.06699483e-01  -3.05437457e-01\n  -3.38230114e-01  -5.12036373e-01  -6.84548513e-02  -2.27971663e-01\n   5.78067694e-02  -8.70102420e-02  -4.21588576e-01  -1.28768135e-02\n  -2.35093832e-01  -2.27971663e-01  -8.70102420e-02  -3.32585407e-01\n  -2.79616851e-01  -2.11829492e-01  -3.83201498e-01  -4.59713172e-01\n  -3.36576499e-01  -2.53421146e-01  -6.18995912e-02  -1.17010708e-01\n  -1.05941253e-01  -9.73493472e-02  -8.70102420e-02  -1.22915588e-02\n  -8.17013968e-02  -1.29206863e-01  -2.57950483e-01  -2.34213342e-01\n  -2.22949164e-01  -5.18393836e-01   4.75757405e-01   3.24030867e-01\n  -1.81537840e-02  -7.13880808e-01  -1.35932254e-01  -9.57094097e-02\n  -6.44691700e-01  -4.57219221e-01   4.44761796e-01  -4.03146197e-01\n  -2.81190295e-01  -3.79785583e-01  -1.66912626e-01  -3.59503180e-01\n  -4.11962748e-01   4.84951689e-01   2.97202592e-01   5.83661409e-01\n   6.21320235e-01   3.35862581e-01  -8.50491342e-01   1.68638845e-01\n  -8.50491342e-01   1.68638845e-01   4.09278447e-01  -2.81190295e-01\n  -2.81190295e-01  -2.81190295e-01  -2.57268909e-01  -2.24445932e-01\n  -2.29307591e-02   6.05001073e-01   6.15020913e-01   5.42321915e-01\n   4.96258718e-01  -6.27994598e-02   6.05001073e-01   5.71630968e-01\n  -2.42720621e-01  -2.72596159e-01  -2.64439813e-01   7.83814956e-02\n  -6.48891192e-01   3.85804119e-01   4.00916299e-01   5.17799892e-01\n  -2.72287518e-01  -1.83911318e-01  -2.67605217e-01  -2.72287518e-01\n  -2.72287518e-01   3.31272318e-01  -3.03255787e-01  -1.30019208e-01\n  -3.15544250e-01  -1.62117582e-01  -2.72287518e-01  -1.03170754e-01\n  -1.88284849e-01   2.62723268e-01   2.32466035e-01   3.02449359e-01\n   3.01726920e-01   2.48350065e-01]\n"
                }
            ]
        }
    ], 
    "nbformat": 4, 
    "nbformat_minor": 0
}