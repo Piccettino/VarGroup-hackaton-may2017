{
    "nbformat": 4, 
    "cells": [
        {
            "cell_type": "code", 
            "execution_count": 1, 
            "metadata": {
                "collapsed": true
            }, 
            "source": "import pandas as pd\nimport numpy as np\nfrom sklearn.decomposition import PCA\nimport matplotlib.pyplot as plt\nfrom io import StringIO\nimport requests\nimport json\nimport pandas as pd\n%matplotlib inline", 
            "outputs": []
        }, 
        {
            "cell_type": "code", 
            "execution_count": 2, 
            "metadata": {
                "collapsed": true
            }, 
            "source": "# The code was removed by DSX for sharing.", 
            "outputs": []
        }, 
        {
            "cell_type": "code", 
            "execution_count": 3, 
            "metadata": {
                "collapsed": false
            }, 
            "source": "df_data_1 = pd.read_csv(get_object_storage_file_with_credentials_a860223228054eadb78455bad5266913('ITTProject', 'materials.csv'), header = None)\ndf_data_1.head()", 
            "outputs": [
                {
                    "data": {
                        "text/html": "<div>\n<table border=\"1\" class=\"dataframe\">\n  <thead>\n    <tr style=\"text-align: right;\">\n      <th></th>\n      <th>0</th>\n      <th>1</th>\n      <th>2</th>\n      <th>3</th>\n      <th>4</th>\n      <th>5</th>\n      <th>6</th>\n      <th>7</th>\n      <th>8</th>\n      <th>9</th>\n      <th>...</th>\n      <th>78</th>\n      <th>79</th>\n      <th>80</th>\n      <th>81</th>\n      <th>82</th>\n      <th>83</th>\n      <th>84</th>\n      <th>85</th>\n      <th>86</th>\n      <th>87</th>\n    </tr>\n  </thead>\n  <tbody>\n    <tr>\n      <th>0</th>\n      <td>8951</td>\n      <td>1745</td>\n      <td>1.74</td>\n      <td>65</td>\n      <td>6439</td>\n      <td>6.43</td>\n      <td>65</td>\n      <td>6511</td>\n      <td>6.51</td>\n      <td>65</td>\n      <td>...</td>\n      <td>0</td>\n      <td>0</td>\n      <td>0</td>\n      <td>0</td>\n      <td>0</td>\n      <td>0</td>\n      <td>0</td>\n      <td>0</td>\n      <td>0</td>\n      <td>0</td>\n    </tr>\n    <tr>\n      <th>1</th>\n      <td>8997</td>\n      <td>1515</td>\n      <td>1.51</td>\n      <td>67</td>\n      <td>1745</td>\n      <td>1.74</td>\n      <td>65</td>\n      <td>4503</td>\n      <td>4.50</td>\n      <td>67</td>\n      <td>...</td>\n      <td>0</td>\n      <td>0</td>\n      <td>0</td>\n      <td>0</td>\n      <td>0</td>\n      <td>0</td>\n      <td>0</td>\n      <td>0</td>\n      <td>0</td>\n      <td>0</td>\n    </tr>\n    <tr>\n      <th>2</th>\n      <td>9024</td>\n      <td>1745</td>\n      <td>1.74</td>\n      <td>65</td>\n      <td>6439</td>\n      <td>6.43</td>\n      <td>65</td>\n      <td>6511</td>\n      <td>6.51</td>\n      <td>65</td>\n      <td>...</td>\n      <td>0</td>\n      <td>0</td>\n      <td>0</td>\n      <td>0</td>\n      <td>0</td>\n      <td>0</td>\n      <td>0</td>\n      <td>0</td>\n      <td>0</td>\n      <td>0</td>\n    </tr>\n    <tr>\n      <th>3</th>\n      <td>9043</td>\n      <td>1745</td>\n      <td>1.74</td>\n      <td>65</td>\n      <td>6303</td>\n      <td>6.30</td>\n      <td>65</td>\n      <td>6439</td>\n      <td>6.43</td>\n      <td>65</td>\n      <td>...</td>\n      <td>0</td>\n      <td>0</td>\n      <td>0</td>\n      <td>0</td>\n      <td>0</td>\n      <td>0</td>\n      <td>0</td>\n      <td>0</td>\n      <td>0</td>\n      <td>0</td>\n    </tr>\n    <tr>\n      <th>4</th>\n      <td>9313</td>\n      <td>1745</td>\n      <td>1.74</td>\n      <td>65</td>\n      <td>6439</td>\n      <td>6.43</td>\n      <td>65</td>\n      <td>6511</td>\n      <td>6.51</td>\n      <td>65</td>\n      <td>...</td>\n      <td>0</td>\n      <td>0</td>\n      <td>0</td>\n      <td>0</td>\n      <td>0</td>\n      <td>0</td>\n      <td>0</td>\n      <td>0</td>\n      <td>0</td>\n      <td>0</td>\n    </tr>\n  </tbody>\n</table>\n<p>5 rows \u00d7 88 columns</p>\n</div>", 
                        "text/plain": "     0     1     2   3     4     5   6     7     8   9  ...  78  79  80  81  \\\n0  8951  1745  1.74  65  6439  6.43  65  6511  6.51  65 ...   0   0   0   0   \n1  8997  1515  1.51  67  1745  1.74  65  4503  4.50  67 ...   0   0   0   0   \n2  9024  1745  1.74  65  6439  6.43  65  6511  6.51  65 ...   0   0   0   0   \n3  9043  1745  1.74  65  6303  6.30  65  6439  6.43  65 ...   0   0   0   0   \n4  9313  1745  1.74  65  6439  6.43  65  6511  6.51  65 ...   0   0   0   0   \n\n   82  83  84  85  86  87  \n0   0   0   0   0   0   0  \n1   0   0   0   0   0   0  \n2   0   0   0   0   0   0  \n3   0   0   0   0   0   0  \n4   0   0   0   0   0   0  \n\n[5 rows x 88 columns]"
                    }, 
                    "execution_count": 3, 
                    "metadata": {}, 
                    "output_type": "execute_result"
                }
            ]
        }, 
        {
            "cell_type": "code", 
            "execution_count": 4, 
            "metadata": {
                "collapsed": false
            }, 
            "source": "df_data_1.describe()", 
            "outputs": [
                {
                    "data": {
                        "text/html": "<div>\n<table border=\"1\" class=\"dataframe\">\n  <thead>\n    <tr style=\"text-align: right;\">\n      <th></th>\n      <th>0</th>\n      <th>1</th>\n      <th>2</th>\n      <th>3</th>\n      <th>4</th>\n      <th>5</th>\n      <th>6</th>\n      <th>7</th>\n      <th>8</th>\n      <th>9</th>\n      <th>...</th>\n      <th>78</th>\n      <th>79</th>\n      <th>80</th>\n      <th>81</th>\n      <th>82</th>\n      <th>83</th>\n      <th>84</th>\n      <th>85</th>\n      <th>86</th>\n      <th>87</th>\n    </tr>\n  </thead>\n  <tbody>\n    <tr>\n      <th>count</th>\n      <td>482.000000</td>\n      <td>482.000000</td>\n      <td>482.000000</td>\n      <td>482.000000</td>\n      <td>482.000000</td>\n      <td>482.000000</td>\n      <td>482.000000</td>\n      <td>482.000000</td>\n      <td>482.000000</td>\n      <td>482.000000</td>\n      <td>...</td>\n      <td>482.000000</td>\n      <td>482.000000</td>\n      <td>482.000000</td>\n      <td>482.000000</td>\n      <td>482.000000</td>\n      <td>482.000000</td>\n      <td>482.000000</td>\n      <td>482.000000</td>\n      <td>482.000000</td>\n      <td>482.000000</td>\n    </tr>\n    <tr>\n      <th>mean</th>\n      <td>20549.985477</td>\n      <td>3336.178423</td>\n      <td>3.331079</td>\n      <td>65.070539</td>\n      <td>6927.813278</td>\n      <td>6.923776</td>\n      <td>65.825726</td>\n      <td>8847.107884</td>\n      <td>8.842614</td>\n      <td>65.358921</td>\n      <td>...</td>\n      <td>0.273859</td>\n      <td>31.184647</td>\n      <td>0.031183</td>\n      <td>0.139004</td>\n      <td>31.197095</td>\n      <td>0.031183</td>\n      <td>0.139004</td>\n      <td>33.894191</td>\n      <td>0.033880</td>\n      <td>0.134855</td>\n    </tr>\n    <tr>\n      <th>std</th>\n      <td>6532.354374</td>\n      <td>4661.224791</td>\n      <td>4.661112</td>\n      <td>1.812180</td>\n      <td>6402.422148</td>\n      <td>6.402340</td>\n      <td>2.109951</td>\n      <td>5610.778906</td>\n      <td>5.610399</td>\n      <td>7.676801</td>\n      <td>...</td>\n      <td>4.247502</td>\n      <td>684.643289</td>\n      <td>0.684598</td>\n      <td>3.051766</td>\n      <td>684.916582</td>\n      <td>0.684598</td>\n      <td>3.051766</td>\n      <td>744.129959</td>\n      <td>0.743811</td>\n      <td>2.960669</td>\n    </tr>\n    <tr>\n      <th>min</th>\n      <td>8951.000000</td>\n      <td>27.000000</td>\n      <td>0.020000</td>\n      <td>49.000000</td>\n      <td>1635.000000</td>\n      <td>1.630000</td>\n      <td>49.000000</td>\n      <td>0.000000</td>\n      <td>0.000000</td>\n      <td>0.000000</td>\n      <td>...</td>\n      <td>0.000000</td>\n      <td>0.000000</td>\n      <td>0.000000</td>\n      <td>0.000000</td>\n      <td>0.000000</td>\n      <td>0.000000</td>\n      <td>0.000000</td>\n      <td>0.000000</td>\n      <td>0.000000</td>\n      <td>0.000000</td>\n    </tr>\n    <tr>\n      <th>25%</th>\n      <td>13511.250000</td>\n      <td>1745.000000</td>\n      <td>1.740000</td>\n      <td>65.000000</td>\n      <td>4563.000000</td>\n      <td>4.560000</td>\n      <td>65.000000</td>\n      <td>6265.000000</td>\n      <td>6.260000</td>\n      <td>65.000000</td>\n      <td>...</td>\n      <td>0.000000</td>\n      <td>0.000000</td>\n      <td>0.000000</td>\n      <td>0.000000</td>\n      <td>0.000000</td>\n      <td>0.000000</td>\n      <td>0.000000</td>\n      <td>0.000000</td>\n      <td>0.000000</td>\n      <td>0.000000</td>\n    </tr>\n    <tr>\n      <th>50%</th>\n      <td>23943.000000</td>\n      <td>1745.000000</td>\n      <td>1.740000</td>\n      <td>65.000000</td>\n      <td>6155.000000</td>\n      <td>6.150000</td>\n      <td>66.000000</td>\n      <td>6417.000000</td>\n      <td>6.410000</td>\n      <td>66.000000</td>\n      <td>...</td>\n      <td>0.000000</td>\n      <td>0.000000</td>\n      <td>0.000000</td>\n      <td>0.000000</td>\n      <td>0.000000</td>\n      <td>0.000000</td>\n      <td>0.000000</td>\n      <td>0.000000</td>\n      <td>0.000000</td>\n      <td>0.000000</td>\n    </tr>\n    <tr>\n      <th>75%</th>\n      <td>25727.750000</td>\n      <td>1745.000000</td>\n      <td>1.740000</td>\n      <td>65.000000</td>\n      <td>6303.000000</td>\n      <td>6.300000</td>\n      <td>67.000000</td>\n      <td>11543.000000</td>\n      <td>11.540000</td>\n      <td>67.000000</td>\n      <td>...</td>\n      <td>0.000000</td>\n      <td>0.000000</td>\n      <td>0.000000</td>\n      <td>0.000000</td>\n      <td>0.000000</td>\n      <td>0.000000</td>\n      <td>0.000000</td>\n      <td>0.000000</td>\n      <td>0.000000</td>\n      <td>0.000000</td>\n    </tr>\n    <tr>\n      <th>max</th>\n      <td>29526.000000</td>\n      <td>35775.000000</td>\n      <td>35.770000</td>\n      <td>68.000000</td>\n      <td>35800.000000</td>\n      <td>35.800000</td>\n      <td>68.000000</td>\n      <td>35194.000000</td>\n      <td>35.190000</td>\n      <td>68.000000</td>\n      <td>...</td>\n      <td>67.000000</td>\n      <td>15031.000000</td>\n      <td>15.030000</td>\n      <td>67.000000</td>\n      <td>15037.000000</td>\n      <td>15.030000</td>\n      <td>67.000000</td>\n      <td>16337.000000</td>\n      <td>16.330000</td>\n      <td>65.000000</td>\n    </tr>\n  </tbody>\n</table>\n<p>8 rows \u00d7 88 columns</p>\n</div>", 
                        "text/plain": "                 0             1           2           3             4   \\\ncount    482.000000    482.000000  482.000000  482.000000    482.000000   \nmean   20549.985477   3336.178423    3.331079   65.070539   6927.813278   \nstd     6532.354374   4661.224791    4.661112    1.812180   6402.422148   \nmin     8951.000000     27.000000    0.020000   49.000000   1635.000000   \n25%    13511.250000   1745.000000    1.740000   65.000000   4563.000000   \n50%    23943.000000   1745.000000    1.740000   65.000000   6155.000000   \n75%    25727.750000   1745.000000    1.740000   65.000000   6303.000000   \nmax    29526.000000  35775.000000   35.770000   68.000000  35800.000000   \n\n               5           6             7           8           9   \\\ncount  482.000000  482.000000    482.000000  482.000000  482.000000   \nmean     6.923776   65.825726   8847.107884    8.842614   65.358921   \nstd      6.402340    2.109951   5610.778906    5.610399    7.676801   \nmin      1.630000   49.000000      0.000000    0.000000    0.000000   \n25%      4.560000   65.000000   6265.000000    6.260000   65.000000   \n50%      6.150000   66.000000   6417.000000    6.410000   66.000000   \n75%      6.300000   67.000000  11543.000000   11.540000   67.000000   \nmax     35.800000   68.000000  35194.000000   35.190000   68.000000   \n\n          ...              78            79          80          81  \\\ncount     ...      482.000000    482.000000  482.000000  482.000000   \nmean      ...        0.273859     31.184647    0.031183    0.139004   \nstd       ...        4.247502    684.643289    0.684598    3.051766   \nmin       ...        0.000000      0.000000    0.000000    0.000000   \n25%       ...        0.000000      0.000000    0.000000    0.000000   \n50%       ...        0.000000      0.000000    0.000000    0.000000   \n75%       ...        0.000000      0.000000    0.000000    0.000000   \nmax       ...       67.000000  15031.000000   15.030000   67.000000   \n\n                 82          83          84            85          86  \\\ncount    482.000000  482.000000  482.000000    482.000000  482.000000   \nmean      31.197095    0.031183    0.139004     33.894191    0.033880   \nstd      684.916582    0.684598    3.051766    744.129959    0.743811   \nmin        0.000000    0.000000    0.000000      0.000000    0.000000   \n25%        0.000000    0.000000    0.000000      0.000000    0.000000   \n50%        0.000000    0.000000    0.000000      0.000000    0.000000   \n75%        0.000000    0.000000    0.000000      0.000000    0.000000   \nmax    15037.000000   15.030000   67.000000  16337.000000   16.330000   \n\n               87  \ncount  482.000000  \nmean     0.134855  \nstd      2.960669  \nmin      0.000000  \n25%      0.000000  \n50%      0.000000  \n75%      0.000000  \nmax     65.000000  \n\n[8 rows x 88 columns]"
                    }, 
                    "execution_count": 4, 
                    "metadata": {}, 
                    "output_type": "execute_result"
                }
            ]
        }, 
        {
            "cell_type": "code", 
            "execution_count": 5, 
            "metadata": {
                "collapsed": false
            }, 
            "source": "print df_data_1.shape", 
            "outputs": [
                {
                    "name": "stdout", 
                    "output_type": "stream", 
                    "text": "(482, 88)\n"
                }
            ]
        }, 
        {
            "cell_type": "code", 
            "execution_count": 6, 
            "metadata": {
                "collapsed": false
            }, 
            "source": "mp_set = set([])\nfor i in np.arange(1,87, 3):\n    df_data_1[i] = df_data_1[i].astype(int)\n    tmp = set(df_data_1[i].unique())\n    mp_set = mp_set | tmp \n\nmp_set = mp_set - set([0])\nprint \"Il numero di materie prime \u00e8 \" + str(len(mp_set))", 
            "outputs": [
                {
                    "name": "stdout", 
                    "output_type": "stream", 
                    "text": "Il numero di materie prime \u00e8 375\n"
                }
            ]
        }, 
        {
            "cell_type": "code", 
            "execution_count": 7, 
            "metadata": {
                "collapsed": false
            }, 
            "source": "gr_set = set([])\nfor i in np.arange(3,88, 3):\n    df_data_1[i] = df_data_1[i].astype(int)\n    tmp = set(df_data_1[i].unique())\n    gr_set = gr_set | tmp\n    \ngr_set = gr_set - set([0])\nprint \"Il numero di gruppi \u00e8 \" + str(len(gr_set))", 
            "outputs": [
                {
                    "name": "stdout", 
                    "output_type": "stream", 
                    "text": "Il numero di gruppi \u00e8 9\n"
                }
            ]
        }, 
        {
            "cell_type": "code", 
            "execution_count": 8, 
            "metadata": {
                "collapsed": false
            }, 
            "source": "my_dict = {}\n\nfor index,row in df_data_1.iterrows():\n    my_row = {}\n    tmp = 0\n    for i in np.arange(2,87, 3):\n        tmp += row[i] \n        if row[i]!= 0:\n            my_row[str(int(row[i-1]))+\"_\"+str(int(row[i+1]))] = row[i]\n    my_dict[row[0]] = my_row\n    \ndf_data2 = pd.DataFrame.from_dict(my_dict, 'index').fillna(0)\nprint df_data2.shape\ndf_data2.head()", 
            "outputs": [
                {
                    "name": "stdout", 
                    "output_type": "stream", 
                    "text": "(482, 650)\n"
                }, 
                {
                    "data": {
                        "text/html": "<div>\n<table border=\"1\" class=\"dataframe\">\n  <thead>\n    <tr style=\"text-align: right;\">\n      <th></th>\n      <th>32488_67</th>\n      <th>15015_65</th>\n      <th>6439_65</th>\n      <th>13709_65</th>\n      <th>16637_65</th>\n      <th>32322_66</th>\n      <th>15027_65</th>\n      <th>6303_65</th>\n      <th>1739_65</th>\n      <th>1745_65</th>\n      <th>...</th>\n      <th>34622_65</th>\n      <th>34545_65</th>\n      <th>34917_66</th>\n      <th>32597_67</th>\n      <th>35588_67</th>\n      <th>32912_51</th>\n      <th>34283_66</th>\n      <th>32938_67</th>\n      <th>32936_67</th>\n      <th>32579_67</th>\n    </tr>\n  </thead>\n  <tbody>\n    <tr>\n      <th>8951</th>\n      <td>0</td>\n      <td>15.01</td>\n      <td>6.43</td>\n      <td>13.7</td>\n      <td>0</td>\n      <td>0.00</td>\n      <td>15.02</td>\n      <td>0.0</td>\n      <td>0</td>\n      <td>1.74</td>\n      <td>...</td>\n      <td>0</td>\n      <td>0</td>\n      <td>0</td>\n      <td>0</td>\n      <td>0</td>\n      <td>0</td>\n      <td>0</td>\n      <td>0</td>\n      <td>0</td>\n      <td>0</td>\n    </tr>\n    <tr>\n      <th>8997</th>\n      <td>0</td>\n      <td>0.00</td>\n      <td>0.00</td>\n      <td>0.0</td>\n      <td>0</td>\n      <td>0.00</td>\n      <td>0.00</td>\n      <td>0.0</td>\n      <td>0</td>\n      <td>1.74</td>\n      <td>...</td>\n      <td>0</td>\n      <td>0</td>\n      <td>0</td>\n      <td>0</td>\n      <td>0</td>\n      <td>0</td>\n      <td>0</td>\n      <td>0</td>\n      <td>0</td>\n      <td>0</td>\n    </tr>\n    <tr>\n      <th>9024</th>\n      <td>0</td>\n      <td>15.01</td>\n      <td>6.43</td>\n      <td>13.7</td>\n      <td>0</td>\n      <td>0.00</td>\n      <td>15.02</td>\n      <td>0.0</td>\n      <td>0</td>\n      <td>1.74</td>\n      <td>...</td>\n      <td>0</td>\n      <td>0</td>\n      <td>0</td>\n      <td>0</td>\n      <td>0</td>\n      <td>0</td>\n      <td>0</td>\n      <td>0</td>\n      <td>0</td>\n      <td>0</td>\n    </tr>\n    <tr>\n      <th>9043</th>\n      <td>0</td>\n      <td>15.01</td>\n      <td>6.43</td>\n      <td>13.7</td>\n      <td>0</td>\n      <td>32.32</td>\n      <td>15.02</td>\n      <td>6.3</td>\n      <td>0</td>\n      <td>1.74</td>\n      <td>...</td>\n      <td>0</td>\n      <td>0</td>\n      <td>0</td>\n      <td>0</td>\n      <td>0</td>\n      <td>0</td>\n      <td>0</td>\n      <td>0</td>\n      <td>0</td>\n      <td>0</td>\n    </tr>\n    <tr>\n      <th>9313</th>\n      <td>0</td>\n      <td>15.01</td>\n      <td>6.43</td>\n      <td>13.7</td>\n      <td>0</td>\n      <td>0.00</td>\n      <td>15.02</td>\n      <td>0.0</td>\n      <td>0</td>\n      <td>1.74</td>\n      <td>...</td>\n      <td>0</td>\n      <td>0</td>\n      <td>0</td>\n      <td>0</td>\n      <td>0</td>\n      <td>0</td>\n      <td>0</td>\n      <td>0</td>\n      <td>0</td>\n      <td>0</td>\n    </tr>\n  </tbody>\n</table>\n<p>5 rows \u00d7 650 columns</p>\n</div>", 
                        "text/plain": "      32488_67  15015_65  6439_65  13709_65  16637_65  32322_66  15027_65  \\\n8951         0     15.01     6.43      13.7         0      0.00     15.02   \n8997         0      0.00     0.00       0.0         0      0.00      0.00   \n9024         0     15.01     6.43      13.7         0      0.00     15.02   \n9043         0     15.01     6.43      13.7         0     32.32     15.02   \n9313         0     15.01     6.43      13.7         0      0.00     15.02   \n\n      6303_65  1739_65  1745_65    ...     34622_65  34545_65  34917_66  \\\n8951      0.0        0     1.74    ...            0         0         0   \n8997      0.0        0     1.74    ...            0         0         0   \n9024      0.0        0     1.74    ...            0         0         0   \n9043      6.3        0     1.74    ...            0         0         0   \n9313      0.0        0     1.74    ...            0         0         0   \n\n      32597_67  35588_67  32912_51  34283_66  32938_67  32936_67  32579_67  \n8951         0         0         0         0         0         0         0  \n8997         0         0         0         0         0         0         0  \n9024         0         0         0         0         0         0         0  \n9043         0         0         0         0         0         0         0  \n9313         0         0         0         0         0         0         0  \n\n[5 rows x 650 columns]"
                    }, 
                    "execution_count": 8, 
                    "metadata": {}, 
                    "output_type": "execute_result"
                }
            ]
        }, 
        {
            "cell_type": "code", 
            "execution_count": 9, 
            "metadata": {
                "collapsed": false
            }, 
            "source": "df_data2 = df_data2.div(df_data2.sum(axis= 1), axis= 0)", 
            "outputs": []
        }, 
        {
            "cell_type": "code", 
            "execution_count": 10, 
            "metadata": {
                "collapsed": false
            }, 
            "source": "df_data2.describe()", 
            "outputs": [
                {
                    "data": {
                        "text/html": "<div>\n<table border=\"1\" class=\"dataframe\">\n  <thead>\n    <tr style=\"text-align: right;\">\n      <th></th>\n      <th>32488_67</th>\n      <th>15015_65</th>\n      <th>6439_65</th>\n      <th>13709_65</th>\n      <th>16637_65</th>\n      <th>32322_66</th>\n      <th>15027_65</th>\n      <th>6303_65</th>\n      <th>1739_65</th>\n      <th>1745_65</th>\n      <th>...</th>\n      <th>34622_65</th>\n      <th>34545_65</th>\n      <th>34917_66</th>\n      <th>32597_67</th>\n      <th>35588_67</th>\n      <th>32912_51</th>\n      <th>34283_66</th>\n      <th>32938_67</th>\n      <th>32936_67</th>\n      <th>32579_67</th>\n    </tr>\n  </thead>\n  <tbody>\n    <tr>\n      <th>count</th>\n      <td>482.000000</td>\n      <td>482.000000</td>\n      <td>482.000000</td>\n      <td>482.000000</td>\n      <td>482.000000</td>\n      <td>482.000000</td>\n      <td>482.000000</td>\n      <td>482.000000</td>\n      <td>482.000000</td>\n      <td>482.000000</td>\n      <td>...</td>\n      <td>482.00000</td>\n      <td>482.000000</td>\n      <td>482.000000</td>\n      <td>482.000000</td>\n      <td>482.000000</td>\n      <td>482.000000</td>\n      <td>482.000000</td>\n      <td>482.000000</td>\n      <td>482.000000</td>\n      <td>482.000000</td>\n    </tr>\n    <tr>\n      <th>mean</th>\n      <td>0.005431</td>\n      <td>0.002590</td>\n      <td>0.001113</td>\n      <td>0.006691</td>\n      <td>0.000942</td>\n      <td>0.008525</td>\n      <td>0.003454</td>\n      <td>0.002846</td>\n      <td>0.000518</td>\n      <td>0.005085</td>\n      <td>...</td>\n      <td>0.00013</td>\n      <td>0.000130</td>\n      <td>0.000131</td>\n      <td>0.000392</td>\n      <td>0.000290</td>\n      <td>0.000306</td>\n      <td>0.000196</td>\n      <td>0.000219</td>\n      <td>0.000452</td>\n      <td>0.000392</td>\n    </tr>\n    <tr>\n      <th>std</th>\n      <td>0.033055</td>\n      <td>0.015385</td>\n      <td>0.006599</td>\n      <td>0.020082</td>\n      <td>0.010343</td>\n      <td>0.038794</td>\n      <td>0.015161</td>\n      <td>0.008594</td>\n      <td>0.001760</td>\n      <td>0.004083</td>\n      <td>...</td>\n      <td>0.00286</td>\n      <td>0.002853</td>\n      <td>0.002884</td>\n      <td>0.008609</td>\n      <td>0.006377</td>\n      <td>0.006709</td>\n      <td>0.004297</td>\n      <td>0.004805</td>\n      <td>0.007017</td>\n      <td>0.008615</td>\n    </tr>\n    <tr>\n      <th>min</th>\n      <td>0.000000</td>\n      <td>0.000000</td>\n      <td>0.000000</td>\n      <td>0.000000</td>\n      <td>0.000000</td>\n      <td>0.000000</td>\n      <td>0.000000</td>\n      <td>0.000000</td>\n      <td>0.000000</td>\n      <td>0.000000</td>\n      <td>...</td>\n      <td>0.00000</td>\n      <td>0.000000</td>\n      <td>0.000000</td>\n      <td>0.000000</td>\n      <td>0.000000</td>\n      <td>0.000000</td>\n      <td>0.000000</td>\n      <td>0.000000</td>\n      <td>0.000000</td>\n      <td>0.000000</td>\n    </tr>\n    <tr>\n      <th>25%</th>\n      <td>0.000000</td>\n      <td>0.000000</td>\n      <td>0.000000</td>\n      <td>0.000000</td>\n      <td>0.000000</td>\n      <td>0.000000</td>\n      <td>0.000000</td>\n      <td>0.000000</td>\n      <td>0.000000</td>\n      <td>0.000000</td>\n      <td>...</td>\n      <td>0.00000</td>\n      <td>0.000000</td>\n      <td>0.000000</td>\n      <td>0.000000</td>\n      <td>0.000000</td>\n      <td>0.000000</td>\n      <td>0.000000</td>\n      <td>0.000000</td>\n      <td>0.000000</td>\n      <td>0.000000</td>\n    </tr>\n    <tr>\n      <th>50%</th>\n      <td>0.000000</td>\n      <td>0.000000</td>\n      <td>0.000000</td>\n      <td>0.000000</td>\n      <td>0.000000</td>\n      <td>0.000000</td>\n      <td>0.000000</td>\n      <td>0.000000</td>\n      <td>0.000000</td>\n      <td>0.005765</td>\n      <td>...</td>\n      <td>0.00000</td>\n      <td>0.000000</td>\n      <td>0.000000</td>\n      <td>0.000000</td>\n      <td>0.000000</td>\n      <td>0.000000</td>\n      <td>0.000000</td>\n      <td>0.000000</td>\n      <td>0.000000</td>\n      <td>0.000000</td>\n    </tr>\n    <tr>\n      <th>75%</th>\n      <td>0.000000</td>\n      <td>0.000000</td>\n      <td>0.000000</td>\n      <td>0.000000</td>\n      <td>0.000000</td>\n      <td>0.000000</td>\n      <td>0.000000</td>\n      <td>0.000000</td>\n      <td>0.000000</td>\n      <td>0.008286</td>\n      <td>...</td>\n      <td>0.00000</td>\n      <td>0.000000</td>\n      <td>0.000000</td>\n      <td>0.000000</td>\n      <td>0.000000</td>\n      <td>0.000000</td>\n      <td>0.000000</td>\n      <td>0.000000</td>\n      <td>0.000000</td>\n      <td>0.000000</td>\n    </tr>\n    <tr>\n      <th>max</th>\n      <td>0.232631</td>\n      <td>0.107506</td>\n      <td>0.046054</td>\n      <td>0.098123</td>\n      <td>0.119109</td>\n      <td>0.231485</td>\n      <td>0.107578</td>\n      <td>0.045122</td>\n      <td>0.012391</td>\n      <td>0.015604</td>\n      <td>...</td>\n      <td>0.06279</td>\n      <td>0.062645</td>\n      <td>0.063316</td>\n      <td>0.189015</td>\n      <td>0.140002</td>\n      <td>0.147294</td>\n      <td>0.094342</td>\n      <td>0.105481</td>\n      <td>0.112489</td>\n      <td>0.189141</td>\n    </tr>\n  </tbody>\n</table>\n<p>8 rows \u00d7 650 columns</p>\n</div>", 
                        "text/plain": "         32488_67    15015_65     6439_65    13709_65    16637_65    32322_66  \\\ncount  482.000000  482.000000  482.000000  482.000000  482.000000  482.000000   \nmean     0.005431    0.002590    0.001113    0.006691    0.000942    0.008525   \nstd      0.033055    0.015385    0.006599    0.020082    0.010343    0.038794   \nmin      0.000000    0.000000    0.000000    0.000000    0.000000    0.000000   \n25%      0.000000    0.000000    0.000000    0.000000    0.000000    0.000000   \n50%      0.000000    0.000000    0.000000    0.000000    0.000000    0.000000   \n75%      0.000000    0.000000    0.000000    0.000000    0.000000    0.000000   \nmax      0.232631    0.107506    0.046054    0.098123    0.119109    0.231485   \n\n         15027_65     6303_65     1739_65     1745_65     ...       34622_65  \\\ncount  482.000000  482.000000  482.000000  482.000000     ...      482.00000   \nmean     0.003454    0.002846    0.000518    0.005085     ...        0.00013   \nstd      0.015161    0.008594    0.001760    0.004083     ...        0.00286   \nmin      0.000000    0.000000    0.000000    0.000000     ...        0.00000   \n25%      0.000000    0.000000    0.000000    0.000000     ...        0.00000   \n50%      0.000000    0.000000    0.000000    0.005765     ...        0.00000   \n75%      0.000000    0.000000    0.000000    0.008286     ...        0.00000   \nmax      0.107578    0.045122    0.012391    0.015604     ...        0.06279   \n\n         34545_65    34917_66    32597_67    35588_67    32912_51    34283_66  \\\ncount  482.000000  482.000000  482.000000  482.000000  482.000000  482.000000   \nmean     0.000130    0.000131    0.000392    0.000290    0.000306    0.000196   \nstd      0.002853    0.002884    0.008609    0.006377    0.006709    0.004297   \nmin      0.000000    0.000000    0.000000    0.000000    0.000000    0.000000   \n25%      0.000000    0.000000    0.000000    0.000000    0.000000    0.000000   \n50%      0.000000    0.000000    0.000000    0.000000    0.000000    0.000000   \n75%      0.000000    0.000000    0.000000    0.000000    0.000000    0.000000   \nmax      0.062645    0.063316    0.189015    0.140002    0.147294    0.094342   \n\n         32938_67    32936_67    32579_67  \ncount  482.000000  482.000000  482.000000  \nmean     0.000219    0.000452    0.000392  \nstd      0.004805    0.007017    0.008615  \nmin      0.000000    0.000000    0.000000  \n25%      0.000000    0.000000    0.000000  \n50%      0.000000    0.000000    0.000000  \n75%      0.000000    0.000000    0.000000  \nmax      0.105481    0.112489    0.189141  \n\n[8 rows x 650 columns]"
                    }, 
                    "execution_count": 10, 
                    "metadata": {}, 
                    "output_type": "execute_result"
                }
            ]
        }, 
        {
            "cell_type": "markdown", 
            "metadata": {
                "collapsed": false
            }, 
            "source": "for index, row in df_data2.iterrows():\n    if row.sum() != float(1.0) :\n        print 'KO'\n        print row.sum()"
        }, 
        {
            "cell_type": "code", 
            "execution_count": 11, 
            "metadata": {
                "collapsed": false
            }, 
            "source": "pca = PCA(n_components = df_data2.shape[1])\npca.fit(df_data2)\nexpl_var = np.array(pca.explained_variance_ratio_)\ncum_expl_var = np.cumsum(expl_var)\n#print cum_expl_var", 
            "outputs": []
        }, 
        {
            "cell_type": "code", 
            "execution_count": 12, 
            "metadata": {
                "collapsed": false
            }, 
            "source": "x = np.arange(cum_expl_var.shape[0])\ny = cum_expl_var\nplt.plot(x,y)", 
            "outputs": [
                {
                    "data": {
                        "text/plain": "[<matplotlib.lines.Line2D at 0x7f6d054e7b90>]"
                    }, 
                    "execution_count": 12, 
                    "metadata": {}, 
                    "output_type": "execute_result"
                }, 
                {
                    "data": {
                        "image/png": "[encoded data removed]", 
                        "text/plain": "<matplotlib.figure.Figure at 0x7f6d07d10790>"
                    }, 
                    "metadata": {}, 
                    "output_type": "display_data"
                }
            ]
        }, 
        {
            "cell_type": "code", 
            "execution_count": 13, 
            "metadata": {
                "collapsed": true
            }, 
            "source": "def num_components(cum_var, thrs):\n    return (cum_var < thrs).sum()", 
            "outputs": []
        }, 
        {
            "cell_type": "code", 
            "execution_count": 14, 
            "metadata": {
                "collapsed": false
            }, 
            "source": "print num_components(cum_expl_var, 0.94)\nprint num_components(cum_expl_var, 0.95)\nprint num_components(cum_expl_var, 0.96)\nprint num_components(cum_expl_var, 0.97)\nprint num_components(cum_expl_var, 0.98)\nprint num_components(cum_expl_var, 0.99)", 
            "outputs": [
                {
                    "name": "stdout", 
                    "output_type": "stream", 
                    "text": "143\n157\n173\n193\n217\n253\n"
                }
            ]
        }, 
        {
            "cell_type": "code", 
            "execution_count": 15, 
            "metadata": {
                "collapsed": false
            }, 
            "source": "pca = PCA(n_components = num_components(cum_expl_var, 0.97))\nx_trasf = pca.fit_transform(df_data2)\nexpl_var = np.array(pca.explained_variance_ratio_)\ncum_expl_var = np.cumsum(expl_var)\n#print cum_expl_var", 
            "outputs": []
        }, 
        {
            "cell_type": "code", 
            "execution_count": 16, 
            "metadata": {
                "collapsed": false
            }, 
            "source": "df_data3 = pd.DataFrame(x_trasf, index = df_data2.index)\nprint df_data3.shape\ndf_data3.head()", 
            "outputs": [
                {
                    "name": "stdout", 
                    "output_type": "stream", 
                    "text": "(482, 193)\n"
                }, 
                {
                    "data": {
                        "text/html": "<div>\n<table border=\"1\" class=\"dataframe\">\n  <thead>\n    <tr style=\"text-align: right;\">\n      <th></th>\n      <th>0</th>\n      <th>1</th>\n      <th>2</th>\n      <th>3</th>\n      <th>4</th>\n      <th>5</th>\n      <th>6</th>\n      <th>7</th>\n      <th>8</th>\n      <th>9</th>\n      <th>...</th>\n      <th>183</th>\n      <th>184</th>\n      <th>185</th>\n      <th>186</th>\n      <th>187</th>\n      <th>188</th>\n      <th>189</th>\n      <th>190</th>\n      <th>191</th>\n      <th>192</th>\n    </tr>\n  </thead>\n  <tbody>\n    <tr>\n      <th>8951</th>\n      <td>0.042246</td>\n      <td>-0.005937</td>\n      <td>0.027117</td>\n      <td>-0.001903</td>\n      <td>0.013791</td>\n      <td>-0.022353</td>\n      <td>0.063907</td>\n      <td>-0.023371</td>\n      <td>0.004564</td>\n      <td>-0.012443</td>\n      <td>...</td>\n      <td>0.000227</td>\n      <td>0.000112</td>\n      <td>0.000044</td>\n      <td>0.000041</td>\n      <td>-0.000015</td>\n      <td>-7.860875e-07</td>\n      <td>-0.000057</td>\n      <td>-0.000066</td>\n      <td>0.000062</td>\n      <td>0.000020</td>\n    </tr>\n    <tr>\n      <th>8997</th>\n      <td>0.027176</td>\n      <td>0.087921</td>\n      <td>-0.077450</td>\n      <td>0.032441</td>\n      <td>0.005934</td>\n      <td>0.029765</td>\n      <td>0.009249</td>\n      <td>0.004650</td>\n      <td>-0.003320</td>\n      <td>0.016842</td>\n      <td>...</td>\n      <td>-0.008613</td>\n      <td>-0.012683</td>\n      <td>0.004724</td>\n      <td>0.008423</td>\n      <td>0.006751</td>\n      <td>-1.920840e-03</td>\n      <td>-0.006889</td>\n      <td>-0.004928</td>\n      <td>-0.010872</td>\n      <td>-0.005499</td>\n    </tr>\n    <tr>\n      <th>9024</th>\n      <td>0.042246</td>\n      <td>-0.005937</td>\n      <td>0.027117</td>\n      <td>-0.001903</td>\n      <td>0.013791</td>\n      <td>-0.022353</td>\n      <td>0.063907</td>\n      <td>-0.023371</td>\n      <td>0.004564</td>\n      <td>-0.012443</td>\n      <td>...</td>\n      <td>0.000227</td>\n      <td>0.000112</td>\n      <td>0.000044</td>\n      <td>0.000041</td>\n      <td>-0.000015</td>\n      <td>-7.860875e-07</td>\n      <td>-0.000057</td>\n      <td>-0.000066</td>\n      <td>0.000062</td>\n      <td>0.000020</td>\n    </tr>\n    <tr>\n      <th>9043</th>\n      <td>0.052750</td>\n      <td>0.002831</td>\n      <td>0.037146</td>\n      <td>-0.011094</td>\n      <td>0.035755</td>\n      <td>-0.066244</td>\n      <td>0.203717</td>\n      <td>-0.099144</td>\n      <td>0.056779</td>\n      <td>-0.056352</td>\n      <td>...</td>\n      <td>-0.004587</td>\n      <td>-0.000884</td>\n      <td>-0.000036</td>\n      <td>-0.000659</td>\n      <td>-0.000442</td>\n      <td>-4.274769e-04</td>\n      <td>0.000617</td>\n      <td>0.000255</td>\n      <td>-0.000725</td>\n      <td>0.002245</td>\n    </tr>\n    <tr>\n      <th>9313</th>\n      <td>0.042074</td>\n      <td>-0.005888</td>\n      <td>0.026843</td>\n      <td>-0.001879</td>\n      <td>0.013626</td>\n      <td>-0.022069</td>\n      <td>0.063027</td>\n      <td>-0.023009</td>\n      <td>0.004487</td>\n      <td>-0.012187</td>\n      <td>...</td>\n      <td>-0.001677</td>\n      <td>-0.000871</td>\n      <td>-0.000362</td>\n      <td>-0.000424</td>\n      <td>0.000138</td>\n      <td>2.836292e-06</td>\n      <td>0.000862</td>\n      <td>0.001160</td>\n      <td>-0.001382</td>\n      <td>-0.000705</td>\n    </tr>\n  </tbody>\n</table>\n<p>5 rows \u00d7 193 columns</p>\n</div>", 
                        "text/plain": "           0         1         2         3         4         5         6    \\\n8951  0.042246 -0.005937  0.027117 -0.001903  0.013791 -0.022353  0.063907   \n8997  0.027176  0.087921 -0.077450  0.032441  0.005934  0.029765  0.009249   \n9024  0.042246 -0.005937  0.027117 -0.001903  0.013791 -0.022353  0.063907   \n9043  0.052750  0.002831  0.037146 -0.011094  0.035755 -0.066244  0.203717   \n9313  0.042074 -0.005888  0.026843 -0.001879  0.013626 -0.022069  0.063027   \n\n           7         8         9      ...          183       184       185  \\\n8951 -0.023371  0.004564 -0.012443    ...     0.000227  0.000112  0.000044   \n8997  0.004650 -0.003320  0.016842    ...    -0.008613 -0.012683  0.004724   \n9024 -0.023371  0.004564 -0.012443    ...     0.000227  0.000112  0.000044   \n9043 -0.099144  0.056779 -0.056352    ...    -0.004587 -0.000884 -0.000036   \n9313 -0.023009  0.004487 -0.012187    ...    -0.001677 -0.000871 -0.000362   \n\n           186       187           188       189       190       191       192  \n8951  0.000041 -0.000015 -7.860875e-07 -0.000057 -0.000066  0.000062  0.000020  \n8997  0.008423  0.006751 -1.920840e-03 -0.006889 -0.004928 -0.010872 -0.005499  \n9024  0.000041 -0.000015 -7.860875e-07 -0.000057 -0.000066  0.000062  0.000020  \n9043 -0.000659 -0.000442 -4.274769e-04  0.000617  0.000255 -0.000725  0.002245  \n9313 -0.000424  0.000138  2.836292e-06  0.000862  0.001160 -0.001382 -0.000705  \n\n[5 rows x 193 columns]"
                    }, 
                    "execution_count": 16, 
                    "metadata": {}, 
                    "output_type": "execute_result"
                }
            ]
        }, 
        {
            "cell_type": "code", 
            "execution_count": 17, 
            "metadata": {
                "collapsed": false, 
                "scrolled": true
            }, 
            "source": "#print (x_trasf.sum(axis=1))\ndf_data3.describe()", 
            "outputs": [
                {
                    "data": {
                        "text/html": "<div>\n<table border=\"1\" class=\"dataframe\">\n  <thead>\n    <tr style=\"text-align: right;\">\n      <th></th>\n      <th>0</th>\n      <th>1</th>\n      <th>2</th>\n      <th>3</th>\n      <th>4</th>\n      <th>5</th>\n      <th>6</th>\n      <th>7</th>\n      <th>8</th>\n      <th>9</th>\n      <th>...</th>\n      <th>183</th>\n      <th>184</th>\n      <th>185</th>\n      <th>186</th>\n      <th>187</th>\n      <th>188</th>\n      <th>189</th>\n      <th>190</th>\n      <th>191</th>\n      <th>192</th>\n    </tr>\n  </thead>\n  <tbody>\n    <tr>\n      <th>count</th>\n      <td>4.820000e+02</td>\n      <td>4.820000e+02</td>\n      <td>4.820000e+02</td>\n      <td>4.820000e+02</td>\n      <td>4.820000e+02</td>\n      <td>4.820000e+02</td>\n      <td>4.820000e+02</td>\n      <td>4.820000e+02</td>\n      <td>4.820000e+02</td>\n      <td>4.820000e+02</td>\n      <td>...</td>\n      <td>4.820000e+02</td>\n      <td>4.820000e+02</td>\n      <td>4.820000e+02</td>\n      <td>4.820000e+02</td>\n      <td>4.820000e+02</td>\n      <td>4.820000e+02</td>\n      <td>4.820000e+02</td>\n      <td>4.820000e+02</td>\n      <td>4.820000e+02</td>\n      <td>4.820000e+02</td>\n    </tr>\n    <tr>\n      <th>mean</th>\n      <td>1.842694e-18</td>\n      <td>3.685388e-18</td>\n      <td>-9.213469e-18</td>\n      <td>-6.449428e-18</td>\n      <td>9.213469e-19</td>\n      <td>-5.528081e-18</td>\n      <td>-3.685388e-18</td>\n      <td>9.213469e-19</td>\n      <td>-6.449428e-18</td>\n      <td>9.213469e-19</td>\n      <td>...</td>\n      <td>7.198023e-20</td>\n      <td>4.318814e-19</td>\n      <td>-4.462774e-19</td>\n      <td>-1.425208e-18</td>\n      <td>-1.425208e-18</td>\n      <td>2.375347e-19</td>\n      <td>-3.635001e-19</td>\n      <td>1.252456e-18</td>\n      <td>3.886932e-19</td>\n      <td>1.439605e-19</td>\n    </tr>\n    <tr>\n      <th>std</th>\n      <td>1.050786e-01</td>\n      <td>7.221950e-02</td>\n      <td>6.680754e-02</td>\n      <td>6.232823e-02</td>\n      <td>6.177765e-02</td>\n      <td>6.012624e-02</td>\n      <td>5.775205e-02</td>\n      <td>5.479259e-02</td>\n      <td>5.394734e-02</td>\n      <td>4.741880e-02</td>\n      <td>...</td>\n      <td>7.060713e-03</td>\n      <td>7.039238e-03</td>\n      <td>7.019559e-03</td>\n      <td>6.960965e-03</td>\n      <td>6.945740e-03</td>\n      <td>6.921454e-03</td>\n      <td>6.887080e-03</td>\n      <td>6.854642e-03</td>\n      <td>6.817388e-03</td>\n      <td>6.775658e-03</td>\n    </tr>\n    <tr>\n      <th>min</th>\n      <td>-2.980561e-01</td>\n      <td>-3.694939e-01</td>\n      <td>-2.213105e-01</td>\n      <td>-1.258156e-01</td>\n      <td>-1.177639e-01</td>\n      <td>-3.434987e-01</td>\n      <td>-1.307053e-01</td>\n      <td>-1.421249e-01</td>\n      <td>-2.121455e-01</td>\n      <td>-1.902099e-01</td>\n      <td>...</td>\n      <td>-2.970575e-02</td>\n      <td>-3.788123e-02</td>\n      <td>-3.101782e-02</td>\n      <td>-6.278798e-02</td>\n      <td>-4.950147e-02</td>\n      <td>-1.213840e-01</td>\n      <td>-2.927176e-02</td>\n      <td>-7.643113e-02</td>\n      <td>-2.843521e-02</td>\n      <td>-2.656972e-02</td>\n    </tr>\n    <tr>\n      <th>25%</th>\n      <td>3.213455e-02</td>\n      <td>-1.475760e-02</td>\n      <td>-1.281294e-02</td>\n      <td>-3.496998e-02</td>\n      <td>-1.308803e-02</td>\n      <td>-3.030281e-02</td>\n      <td>-1.571625e-02</td>\n      <td>-2.986993e-02</td>\n      <td>-1.602491e-02</td>\n      <td>-2.826749e-02</td>\n      <td>...</td>\n      <td>-2.447988e-03</td>\n      <td>-2.954735e-03</td>\n      <td>-2.019191e-03</td>\n      <td>-2.627068e-03</td>\n      <td>-2.048575e-03</td>\n      <td>-9.304009e-04</td>\n      <td>-2.804650e-03</td>\n      <td>-1.823044e-03</td>\n      <td>-2.476044e-03</td>\n      <td>-3.093490e-03</td>\n    </tr>\n    <tr>\n      <th>50%</th>\n      <td>4.542832e-02</td>\n      <td>8.924652e-04</td>\n      <td>5.728693e-03</td>\n      <td>-6.897151e-03</td>\n      <td>2.555619e-03</td>\n      <td>-5.086062e-03</td>\n      <td>1.909469e-03</td>\n      <td>-1.575867e-03</td>\n      <td>6.948027e-03</td>\n      <td>6.591381e-03</td>\n      <td>...</td>\n      <td>3.268333e-05</td>\n      <td>-1.127931e-04</td>\n      <td>-1.120035e-04</td>\n      <td>4.279772e-05</td>\n      <td>2.415286e-04</td>\n      <td>-5.485550e-05</td>\n      <td>3.518820e-06</td>\n      <td>-6.377515e-05</td>\n      <td>3.187377e-05</td>\n      <td>-2.837130e-07</td>\n    </tr>\n    <tr>\n      <th>75%</th>\n      <td>5.241260e-02</td>\n      <td>2.078473e-02</td>\n      <td>4.196643e-02</td>\n      <td>2.204733e-02</td>\n      <td>1.126573e-02</td>\n      <td>3.577146e-02</td>\n      <td>1.594571e-02</td>\n      <td>1.718204e-02</td>\n      <td>2.395516e-02</td>\n      <td>2.289070e-02</td>\n      <td>...</td>\n      <td>2.624227e-03</td>\n      <td>2.422934e-03</td>\n      <td>2.130181e-03</td>\n      <td>2.907225e-03</td>\n      <td>2.267049e-03</td>\n      <td>8.088601e-04</td>\n      <td>2.651738e-03</td>\n      <td>2.149918e-03</td>\n      <td>2.164635e-03</td>\n      <td>2.856944e-03</td>\n    </tr>\n    <tr>\n      <th>max</th>\n      <td>8.496021e-02</td>\n      <td>1.673477e-01</td>\n      <td>1.652439e-01</td>\n      <td>4.025863e-01</td>\n      <td>4.933492e-01</td>\n      <td>1.397258e-01</td>\n      <td>2.829590e-01</td>\n      <td>1.744289e-01</td>\n      <td>8.588040e-02</td>\n      <td>1.288936e-01</td>\n      <td>...</td>\n      <td>3.529283e-02</td>\n      <td>4.368540e-02</td>\n      <td>8.874855e-02</td>\n      <td>4.904225e-02</td>\n      <td>5.278659e-02</td>\n      <td>5.728785e-02</td>\n      <td>4.838380e-02</td>\n      <td>3.249137e-02</td>\n      <td>6.341007e-02</td>\n      <td>2.834995e-02</td>\n    </tr>\n  </tbody>\n</table>\n<p>8 rows \u00d7 193 columns</p>\n</div>", 
                        "text/plain": "                0             1             2             3             4    \\\ncount  4.820000e+02  4.820000e+02  4.820000e+02  4.820000e+02  4.820000e+02   \nmean   1.842694e-18  3.685388e-18 -9.213469e-18 -6.449428e-18  9.213469e-19   \nstd    1.050786e-01  7.221950e-02  6.680754e-02  6.232823e-02  6.177765e-02   \nmin   -2.980561e-01 -3.694939e-01 -2.213105e-01 -1.258156e-01 -1.177639e-01   \n25%    3.213455e-02 -1.475760e-02 -1.281294e-02 -3.496998e-02 -1.308803e-02   \n50%    4.542832e-02  8.924652e-04  5.728693e-03 -6.897151e-03  2.555619e-03   \n75%    5.241260e-02  2.078473e-02  4.196643e-02  2.204733e-02  1.126573e-02   \nmax    8.496021e-02  1.673477e-01  1.652439e-01  4.025863e-01  4.933492e-01   \n\n                5             6             7             8             9    \\\ncount  4.820000e+02  4.820000e+02  4.820000e+02  4.820000e+02  4.820000e+02   \nmean  -5.528081e-18 -3.685388e-18  9.213469e-19 -6.449428e-18  9.213469e-19   \nstd    6.012624e-02  5.775205e-02  5.479259e-02  5.394734e-02  4.741880e-02   \nmin   -3.434987e-01 -1.307053e-01 -1.421249e-01 -2.121455e-01 -1.902099e-01   \n25%   -3.030281e-02 -1.571625e-02 -2.986993e-02 -1.602491e-02 -2.826749e-02   \n50%   -5.086062e-03  1.909469e-03 -1.575867e-03  6.948027e-03  6.591381e-03   \n75%    3.577146e-02  1.594571e-02  1.718204e-02  2.395516e-02  2.289070e-02   \nmax    1.397258e-01  2.829590e-01  1.744289e-01  8.588040e-02  1.288936e-01   \n\n           ...                183           184           185           186  \\\ncount      ...       4.820000e+02  4.820000e+02  4.820000e+02  4.820000e+02   \nmean       ...       7.198023e-20  4.318814e-19 -4.462774e-19 -1.425208e-18   \nstd        ...       7.060713e-03  7.039238e-03  7.019559e-03  6.960965e-03   \nmin        ...      -2.970575e-02 -3.788123e-02 -3.101782e-02 -6.278798e-02   \n25%        ...      -2.447988e-03 -2.954735e-03 -2.019191e-03 -2.627068e-03   \n50%        ...       3.268333e-05 -1.127931e-04 -1.120035e-04  4.279772e-05   \n75%        ...       2.624227e-03  2.422934e-03  2.130181e-03  2.907225e-03   \nmax        ...       3.529283e-02  4.368540e-02  8.874855e-02  4.904225e-02   \n\n                187           188           189           190           191  \\\ncount  4.820000e+02  4.820000e+02  4.820000e+02  4.820000e+02  4.820000e+02   \nmean  -1.425208e-18  2.375347e-19 -3.635001e-19  1.252456e-18  3.886932e-19   \nstd    6.945740e-03  6.921454e-03  6.887080e-03  6.854642e-03  6.817388e-03   \nmin   -4.950147e-02 -1.213840e-01 -2.927176e-02 -7.643113e-02 -2.843521e-02   \n25%   -2.048575e-03 -9.304009e-04 -2.804650e-03 -1.823044e-03 -2.476044e-03   \n50%    2.415286e-04 -5.485550e-05  3.518820e-06 -6.377515e-05  3.187377e-05   \n75%    2.267049e-03  8.088601e-04  2.651738e-03  2.149918e-03  2.164635e-03   \nmax    5.278659e-02  5.728785e-02  4.838380e-02  3.249137e-02  6.341007e-02   \n\n                192  \ncount  4.820000e+02  \nmean   1.439605e-19  \nstd    6.775658e-03  \nmin   -2.656972e-02  \n25%   -3.093490e-03  \n50%   -2.837130e-07  \n75%    2.856944e-03  \nmax    2.834995e-02  \n\n[8 rows x 193 columns]"
                    }, 
                    "execution_count": 17, 
                    "metadata": {}, 
                    "output_type": "execute_result"
                }
            ]
        }, 
        {
            "cell_type": "code", 
            "execution_count": 18, 
            "metadata": {
                "collapsed": false
            }, 
            "source": "df_data3.to_csv('cleaned_materials.csv')", 
            "outputs": []
        }, 
        {
            "cell_type": "code", 
            "execution_count": 19, 
            "metadata": {
                "collapsed": false
            }, 
            "source": "put_object_storage_file_with_credentials_a860223228054eadb78455bad5266913('ITTProject', 'cleaned_materials.csv')", 
            "outputs": [
                {
                    "name": "stdout", 
                    "output_type": "stream", 
                    "text": "<Response [201]>\n"
                }
            ]
        }
    ], 
    "metadata": {
        "kernelspec": {
            "display_name": "Python 2 with Spark 2.0", 
            "language": "python", 
            "name": "python2-spark20"
        }, 
        "language_info": {
            "codemirror_mode": {
                "version": 2, 
                "name": "ipython"
            }, 
            "version": "2.7.11", 
            "name": "python", 
            "file_extension": ".py", 
            "nbconvert_exporter": "python", 
            "mimetype": "text/x-python", 
            "pygments_lexer": "ipython2"
        }
    }, 
    "nbformat_minor": 0
}