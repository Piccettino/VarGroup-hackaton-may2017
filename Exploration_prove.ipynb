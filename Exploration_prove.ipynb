{
    "metadata": {
        "kernelspec": {
            "language": "python", 
            "display_name": "Python 2 with Spark 2.0", 
            "name": "python2-spark20"
        }, 
        "language_info": {
            "version": "2.7.11", 
            "pygments_lexer": "ipython2", 
            "nbconvert_exporter": "python", 
            "name": "python", 
            "file_extension": ".py", 
            "mimetype": "text/x-python", 
            "codemirror_mode": {
                "version": 2, 
                "name": "ipython"
            }
        }
    }, 
    "cells": [
        {
            "execution_count": 1, 
            "cell_type": "code", 
            "source": "# The code was removed by DSX for sharing.", 
            "metadata": {
                "collapsed": false
            }, 
            "outputs": [
                {
                    "execution_count": 1, 
                    "data": {
                        "text/html": "<div>\n<table border=\"1\" class=\"dataframe\">\n  <thead>\n    <tr style=\"text-align: right;\">\n      <th></th>\n      <th>Material</th>\n      <th>Usura_mat_mm</th>\n      <th>Usura_mat_g</th>\n      <th>Usura_disco_g</th>\n      <th>Durezza_Disco</th>\n      <th>CodPinza</th>\n      <th>Comprex_LP</th>\n      <th>Comprex_LR</th>\n      <th>Grindo_LP</th>\n      <th>Grindo_LR</th>\n      <th>...</th>\n      <th>Vmax</th>\n      <th>Rendimento</th>\n      <th>Indice_misura</th>\n      <th>Attrezzatura</th>\n      <th>Raggio_ruota</th>\n      <th>Area_pistone</th>\n      <th>CodImpianto</th>\n      <th>Raggio_medio</th>\n      <th>Disco_nuovo</th>\n      <th>Disco</th>\n    </tr>\n  </thead>\n  <tbody>\n    <tr>\n      <th>0</th>\n      <td>9482</td>\n      <td>0.55</td>\n      <td>6.7</td>\n      <td>8.0</td>\n      <td>164</td>\n      <td>1</td>\n      <td>166</td>\n      <td>167</td>\n      <td>753</td>\n      <td>768</td>\n      <td>...</td>\n      <td>190</td>\n      <td>1</td>\n      <td>2</td>\n      <td>0</td>\n      <td>308</td>\n      <td>22.9</td>\n      <td>0</td>\n      <td>117.7</td>\n      <td>0</td>\n      <td>280x22</td>\n    </tr>\n    <tr>\n      <th>1</th>\n      <td>9799</td>\n      <td>0.54</td>\n      <td>9.7</td>\n      <td>5.0</td>\n      <td>169</td>\n      <td>1</td>\n      <td>194</td>\n      <td>184</td>\n      <td>740</td>\n      <td>742</td>\n      <td>...</td>\n      <td>195</td>\n      <td>1</td>\n      <td>2</td>\n      <td>0</td>\n      <td>308</td>\n      <td>22.9</td>\n      <td>1</td>\n      <td>118.0</td>\n      <td>0</td>\n      <td>280X22</td>\n    </tr>\n    <tr>\n      <th>2</th>\n      <td>16136</td>\n      <td>0.50</td>\n      <td>8.9</td>\n      <td>5.0</td>\n      <td>196</td>\n      <td>1</td>\n      <td>196</td>\n      <td>194</td>\n      <td>768</td>\n      <td>743</td>\n      <td>...</td>\n      <td>195</td>\n      <td>1</td>\n      <td>2</td>\n      <td>0</td>\n      <td>308</td>\n      <td>22.9</td>\n      <td>2</td>\n      <td>104.0</td>\n      <td>0</td>\n      <td>256X22</td>\n    </tr>\n    <tr>\n      <th>3</th>\n      <td>19269</td>\n      <td>0.36</td>\n      <td>7.9</td>\n      <td>6.0</td>\n      <td>194</td>\n      <td>1</td>\n      <td>194</td>\n      <td>190</td>\n      <td>0</td>\n      <td>0</td>\n      <td>...</td>\n      <td>195</td>\n      <td>1</td>\n      <td>2</td>\n      <td>0</td>\n      <td>308</td>\n      <td>22.9</td>\n      <td>2</td>\n      <td>104.0</td>\n      <td>0</td>\n      <td>256X22</td>\n    </tr>\n    <tr>\n      <th>4</th>\n      <td>19269</td>\n      <td>0.58</td>\n      <td>8.8</td>\n      <td>5.4</td>\n      <td>190</td>\n      <td>1</td>\n      <td>213</td>\n      <td>195</td>\n      <td>0</td>\n      <td>0</td>\n      <td>...</td>\n      <td>190</td>\n      <td>1</td>\n      <td>1</td>\n      <td>0</td>\n      <td>308</td>\n      <td>22.9</td>\n      <td>3</td>\n      <td>117.7</td>\n      <td>0</td>\n      <td>280x22</td>\n    </tr>\n  </tbody>\n</table>\n<p>5 rows \u00d7 23 columns</p>\n</div>", 
                        "text/plain": "   Material  Usura_mat_mm  Usura_mat_g  Usura_disco_g  Durezza_Disco  \\\n0      9482          0.55          6.7            8.0            164   \n1      9799          0.54          9.7            5.0            169   \n2     16136          0.50          8.9            5.0            196   \n3     19269          0.36          7.9            6.0            194   \n4     19269          0.58          8.8            5.4            190   \n\n   CodPinza  Comprex_LP  Comprex_LR  Grindo_LP  Grindo_LR   ...    Vmax  \\\n0         1         166         167        753        768   ...     190   \n1         1         194         184        740        742   ...     195   \n2         1         196         194        768        743   ...     195   \n3         1         194         190          0          0   ...     195   \n4         1         213         195          0          0   ...     190   \n\n   Rendimento  Indice_misura  Attrezzatura  Raggio_ruota  Area_pistone  \\\n0           1              2             0           308          22.9   \n1           1              2             0           308          22.9   \n2           1              2             0           308          22.9   \n3           1              2             0           308          22.9   \n4           1              1             0           308          22.9   \n\n   CodImpianto  Raggio_medio  Disco_nuovo   Disco  \n0            0         117.7            0  280x22  \n1            1         118.0            0  280X22  \n2            2         104.0            0  256X22  \n3            2         104.0            0  256X22  \n4            3         117.7            0  280x22  \n\n[5 rows x 23 columns]"
                    }, 
                    "metadata": {}, 
                    "output_type": "execute_result"
                }
            ]
        }, 
        {
            "execution_count": 34, 
            "cell_type": "code", 
            "source": "df_data_1.describe()", 
            "metadata": {
                "collapsed": false
            }, 
            "outputs": [
                {
                    "execution_count": 34, 
                    "data": {
                        "text/html": "<div>\n<table border=\"1\" class=\"dataframe\">\n  <thead>\n    <tr style=\"text-align: right;\">\n      <th></th>\n      <th>Material</th>\n      <th>Usura_mat_g</th>\n      <th>Durezza_Disco</th>\n      <th>CodPinza</th>\n      <th>Comprex_LP</th>\n      <th>Comprex_LR</th>\n      <th>PistoneCpx</th>\n      <th>Inerzia</th>\n      <th>Vmax</th>\n      <th>Indice_misura</th>\n      <th>Attrezzatura</th>\n      <th>Raggio_ruota</th>\n      <th>Area_pistone</th>\n      <th>CodImpianto</th>\n      <th>Raggio_medio</th>\n      <th>Disco_nuovo</th>\n    </tr>\n  </thead>\n  <tbody>\n    <tr>\n      <th>count</th>\n      <td>653.000000</td>\n      <td>653.000000</td>\n      <td>653.000000</td>\n      <td>653.000000</td>\n      <td>653.000000</td>\n      <td>650.000000</td>\n      <td>653.00000</td>\n      <td>653.000000</td>\n      <td>653.000000</td>\n      <td>653.000000</td>\n      <td>653.000000</td>\n      <td>653.000000</td>\n      <td>653.000000</td>\n      <td>652.000000</td>\n      <td>653.000000</td>\n      <td>653.000000</td>\n    </tr>\n    <tr>\n      <th>mean</th>\n      <td>20668.571210</td>\n      <td>13.232006</td>\n      <td>198.894334</td>\n      <td>1.217458</td>\n      <td>175.343032</td>\n      <td>175.313846</td>\n      <td>54.11026</td>\n      <td>66.632466</td>\n      <td>191.012251</td>\n      <td>1.986217</td>\n      <td>0.001531</td>\n      <td>307.623277</td>\n      <td>22.996294</td>\n      <td>5.881902</td>\n      <td>110.135375</td>\n      <td>0.009188</td>\n    </tr>\n    <tr>\n      <th>std</th>\n      <td>6272.771726</td>\n      <td>7.996596</td>\n      <td>25.954825</td>\n      <td>1.284118</td>\n      <td>43.668705</td>\n      <td>44.198669</td>\n      <td>0.56490</td>\n      <td>3.967041</td>\n      <td>5.431941</td>\n      <td>0.116677</td>\n      <td>0.039133</td>\n      <td>2.873970</td>\n      <td>0.493346</td>\n      <td>3.900039</td>\n      <td>6.761052</td>\n      <td>0.095488</td>\n    </tr>\n    <tr>\n      <th>min</th>\n      <td>8951.000000</td>\n      <td>5.600000</td>\n      <td>146.000000</td>\n      <td>0.000000</td>\n      <td>37.000000</td>\n      <td>36.000000</td>\n      <td>54.00000</td>\n      <td>45.000000</td>\n      <td>169.000000</td>\n      <td>1.000000</td>\n      <td>0.000000</td>\n      <td>290.000000</td>\n      <td>22.900000</td>\n      <td>0.000000</td>\n      <td>104.000000</td>\n      <td>0.000000</td>\n    </tr>\n    <tr>\n      <th>25%</th>\n      <td>15761.000000</td>\n      <td>8.600000</td>\n      <td>180.000000</td>\n      <td>0.000000</td>\n      <td>147.000000</td>\n      <td>146.000000</td>\n      <td>54.00000</td>\n      <td>65.000000</td>\n      <td>185.000000</td>\n      <td>2.000000</td>\n      <td>0.000000</td>\n      <td>308.000000</td>\n      <td>22.900000</td>\n      <td>1.000000</td>\n      <td>104.000000</td>\n      <td>0.000000</td>\n    </tr>\n    <tr>\n      <th>50%</th>\n      <td>23292.000000</td>\n      <td>11.000000</td>\n      <td>194.000000</td>\n      <td>1.000000</td>\n      <td>173.000000</td>\n      <td>173.000000</td>\n      <td>54.00000</td>\n      <td>65.000000</td>\n      <td>190.000000</td>\n      <td>2.000000</td>\n      <td>0.000000</td>\n      <td>308.000000</td>\n      <td>22.900000</td>\n      <td>7.000000</td>\n      <td>104.000000</td>\n      <td>0.000000</td>\n    </tr>\n    <tr>\n      <th>75%</th>\n      <td>25291.000000</td>\n      <td>14.700000</td>\n      <td>213.000000</td>\n      <td>1.000000</td>\n      <td>198.000000</td>\n      <td>197.000000</td>\n      <td>54.00000</td>\n      <td>72.500000</td>\n      <td>195.000000</td>\n      <td>2.000000</td>\n      <td>0.000000</td>\n      <td>308.000000</td>\n      <td>22.900000</td>\n      <td>8.000000</td>\n      <td>117.700000</td>\n      <td>0.000000</td>\n    </tr>\n    <tr>\n      <th>max</th>\n      <td>29526.000000</td>\n      <td>101.800000</td>\n      <td>305.000000</td>\n      <td>4.000000</td>\n      <td>481.000000</td>\n      <td>489.000000</td>\n      <td>57.00000</td>\n      <td>72.500000</td>\n      <td>215.000000</td>\n      <td>2.000000</td>\n      <td>1.000000</td>\n      <td>315.000000</td>\n      <td>25.520000</td>\n      <td>15.000000</td>\n      <td>118.000000</td>\n      <td>1.000000</td>\n    </tr>\n  </tbody>\n</table>\n</div>", 
                        "text/plain": "           Material  Usura_mat_g  Durezza_Disco    CodPinza  Comprex_LP  \\\ncount    653.000000   653.000000     653.000000  653.000000  653.000000   \nmean   20668.571210    13.232006     198.894334    1.217458  175.343032   \nstd     6272.771726     7.996596      25.954825    1.284118   43.668705   \nmin     8951.000000     5.600000     146.000000    0.000000   37.000000   \n25%    15761.000000     8.600000     180.000000    0.000000  147.000000   \n50%    23292.000000    11.000000     194.000000    1.000000  173.000000   \n75%    25291.000000    14.700000     213.000000    1.000000  198.000000   \nmax    29526.000000   101.800000     305.000000    4.000000  481.000000   \n\n       Comprex_LR  PistoneCpx     Inerzia        Vmax  Indice_misura  \\\ncount  650.000000   653.00000  653.000000  653.000000     653.000000   \nmean   175.313846    54.11026   66.632466  191.012251       1.986217   \nstd     44.198669     0.56490    3.967041    5.431941       0.116677   \nmin     36.000000    54.00000   45.000000  169.000000       1.000000   \n25%    146.000000    54.00000   65.000000  185.000000       2.000000   \n50%    173.000000    54.00000   65.000000  190.000000       2.000000   \n75%    197.000000    54.00000   72.500000  195.000000       2.000000   \nmax    489.000000    57.00000   72.500000  215.000000       2.000000   \n\n       Attrezzatura  Raggio_ruota  Area_pistone  CodImpianto  Raggio_medio  \\\ncount    653.000000    653.000000    653.000000   652.000000    653.000000   \nmean       0.001531    307.623277     22.996294     5.881902    110.135375   \nstd        0.039133      2.873970      0.493346     3.900039      6.761052   \nmin        0.000000    290.000000     22.900000     0.000000    104.000000   \n25%        0.000000    308.000000     22.900000     1.000000    104.000000   \n50%        0.000000    308.000000     22.900000     7.000000    104.000000   \n75%        0.000000    308.000000     22.900000     8.000000    117.700000   \nmax        1.000000    315.000000     25.520000    15.000000    118.000000   \n\n       Disco_nuovo  \ncount   653.000000  \nmean      0.009188  \nstd       0.095488  \nmin       0.000000  \n25%       0.000000  \n50%       0.000000  \n75%       0.000000  \nmax       1.000000  "
                    }, 
                    "metadata": {}, 
                    "output_type": "execute_result"
                }
            ]
        }, 
        {
            "execution_count": 36, 
            "cell_type": "code", 
            "source": "df_data_1.plot(kind='scatter', x='Usura_mat_g', y='Comprex_LP', figsize=(12,8))", 
            "metadata": {
                "collapsed": false
            }, 
            "outputs": [
                {
                    "execution_count": 36, 
                    "data": {
                        "text/plain": "<matplotlib.axes._subplots.AxesSubplot at 0x7f03e4abbcd0>"
                    }, 
                    "metadata": {}, 
                    "output_type": "execute_result"
                }
            ]
        }, 
        {
            "execution_count": 2, 
            "cell_type": "code", 
            "source": "df_data_1 = df_data_1.drop(\"Usura_mat_mm\",1)\ndf_data_1 = df_data_1.drop(\"Usura_disco_g\",1)\ndf_data_1 = df_data_1.drop(\"Grindo_LP\",1)\ndf_data_1 = df_data_1.drop(\"Grindo_LR\",1)\ndf_data_1 = df_data_1.drop(\"Press_accost\",1)", 
            "metadata": {
                "collapsed": false
            }, 
            "outputs": []
        }, 
        {
            "execution_count": 6, 
            "cell_type": "code", 
            "source": "df_data_1 = df_data_1.drop(\"Rendimento\",1)", 
            "metadata": {
                "collapsed": false
            }, 
            "outputs": []
        }, 
        {
            "execution_count": 21, 
            "cell_type": "code", 
            "source": "df_data_2 = pd.get_dummies(df_data_1, columns=[\"CodPinza\",\"Indice_misura\",\"Attrezzatura\",\"CodImpianto\",\"Disco_nuovo\",\"Disco\"])", 
            "metadata": {
                "collapsed": false
            }, 
            "outputs": []
        }, 
        {
            "execution_count": 32, 
            "cell_type": "code", 
            "source": "print df_data_1.shape\nprint df_data_2.shape", 
            "metadata": {
                "collapsed": false
            }, 
            "outputs": [
                {
                    "output_type": "stream", 
                    "name": "stdout", 
                    "text": "(653, 17)\n(653, 42)\n"
                }
            ]
        }, 
        {
            "execution_count": 33, 
            "cell_type": "code", 
            "source": "df_data_2.head()", 
            "metadata": {
                "collapsed": false
            }, 
            "outputs": [
                {
                    "execution_count": 33, 
                    "data": {
                        "text/html": "<div>\n<table border=\"1\" class=\"dataframe\">\n  <thead>\n    <tr style=\"text-align: right;\">\n      <th></th>\n      <th>Material</th>\n      <th>Usura_mat_g</th>\n      <th>Durezza_Disco</th>\n      <th>Comprex_LP</th>\n      <th>Comprex_LR</th>\n      <th>PistoneCpx</th>\n      <th>Inerzia</th>\n      <th>Vmax</th>\n      <th>Raggio_ruota</th>\n      <th>Area_pistone</th>\n      <th>...</th>\n      <th>CodImpianto_13.0</th>\n      <th>CodImpianto_14.0</th>\n      <th>CodImpianto_15.0</th>\n      <th>Disco_nuovo_0</th>\n      <th>Disco_nuovo_1</th>\n      <th>Disco_256X22</th>\n      <th>Disco_256x22</th>\n      <th>Disco_276x24</th>\n      <th>Disco_280X22</th>\n      <th>Disco_280x22</th>\n    </tr>\n  </thead>\n  <tbody>\n    <tr>\n      <th>0</th>\n      <td>9482</td>\n      <td>6.7</td>\n      <td>164</td>\n      <td>166</td>\n      <td>167</td>\n      <td>54</td>\n      <td>72.5</td>\n      <td>190</td>\n      <td>308</td>\n      <td>22.9</td>\n      <td>...</td>\n      <td>0</td>\n      <td>0</td>\n      <td>0</td>\n      <td>1</td>\n      <td>0</td>\n      <td>0</td>\n      <td>0</td>\n      <td>0</td>\n      <td>0</td>\n      <td>1</td>\n    </tr>\n    <tr>\n      <th>1</th>\n      <td>9799</td>\n      <td>9.7</td>\n      <td>169</td>\n      <td>194</td>\n      <td>184</td>\n      <td>54</td>\n      <td>65.0</td>\n      <td>195</td>\n      <td>308</td>\n      <td>22.9</td>\n      <td>...</td>\n      <td>0</td>\n      <td>0</td>\n      <td>0</td>\n      <td>1</td>\n      <td>0</td>\n      <td>0</td>\n      <td>0</td>\n      <td>0</td>\n      <td>1</td>\n      <td>0</td>\n    </tr>\n    <tr>\n      <th>2</th>\n      <td>16136</td>\n      <td>8.9</td>\n      <td>196</td>\n      <td>196</td>\n      <td>194</td>\n      <td>54</td>\n      <td>65.0</td>\n      <td>195</td>\n      <td>308</td>\n      <td>22.9</td>\n      <td>...</td>\n      <td>0</td>\n      <td>0</td>\n      <td>0</td>\n      <td>1</td>\n      <td>0</td>\n      <td>1</td>\n      <td>0</td>\n      <td>0</td>\n      <td>0</td>\n      <td>0</td>\n    </tr>\n    <tr>\n      <th>3</th>\n      <td>19269</td>\n      <td>7.9</td>\n      <td>194</td>\n      <td>194</td>\n      <td>190</td>\n      <td>54</td>\n      <td>65.0</td>\n      <td>195</td>\n      <td>308</td>\n      <td>22.9</td>\n      <td>...</td>\n      <td>0</td>\n      <td>0</td>\n      <td>0</td>\n      <td>1</td>\n      <td>0</td>\n      <td>1</td>\n      <td>0</td>\n      <td>0</td>\n      <td>0</td>\n      <td>0</td>\n    </tr>\n    <tr>\n      <th>4</th>\n      <td>19269</td>\n      <td>8.8</td>\n      <td>190</td>\n      <td>213</td>\n      <td>195</td>\n      <td>54</td>\n      <td>72.5</td>\n      <td>190</td>\n      <td>308</td>\n      <td>22.9</td>\n      <td>...</td>\n      <td>0</td>\n      <td>0</td>\n      <td>0</td>\n      <td>1</td>\n      <td>0</td>\n      <td>0</td>\n      <td>0</td>\n      <td>0</td>\n      <td>0</td>\n      <td>1</td>\n    </tr>\n  </tbody>\n</table>\n<p>5 rows \u00d7 42 columns</p>\n</div>", 
                        "text/plain": "   Material  Usura_mat_g  Durezza_Disco  Comprex_LP  Comprex_LR  PistoneCpx  \\\n0      9482          6.7            164         166         167          54   \n1      9799          9.7            169         194         184          54   \n2     16136          8.9            196         196         194          54   \n3     19269          7.9            194         194         190          54   \n4     19269          8.8            190         213         195          54   \n\n   Inerzia  Vmax  Raggio_ruota  Area_pistone      ...       CodImpianto_13.0  \\\n0     72.5   190           308          22.9      ...                      0   \n1     65.0   195           308          22.9      ...                      0   \n2     65.0   195           308          22.9      ...                      0   \n3     65.0   195           308          22.9      ...                      0   \n4     72.5   190           308          22.9      ...                      0   \n\n   CodImpianto_14.0  CodImpianto_15.0  Disco_nuovo_0  Disco_nuovo_1  \\\n0                 0                 0              1              0   \n1                 0                 0              1              0   \n2                 0                 0              1              0   \n3                 0                 0              1              0   \n4                 0                 0              1              0   \n\n   Disco_256X22  Disco_256x22  Disco_276x24  Disco_280X22  Disco_280x22  \n0             0             0             0             0             1  \n1             0             0             0             1             0  \n2             1             0             0             0             0  \n3             1             0             0             0             0  \n4             0             0             0             0             1  \n\n[5 rows x 42 columns]"
                    }, 
                    "metadata": {}, 
                    "output_type": "execute_result"
                }
            ]
        }, 
        {
            "execution_count": 37, 
            "cell_type": "code", 
            "source": "df_data_2.describe()", 
            "metadata": {
                "collapsed": false
            }, 
            "outputs": [
                {
                    "execution_count": 37, 
                    "data": {
                        "text/html": "<div>\n<table border=\"1\" class=\"dataframe\">\n  <thead>\n    <tr style=\"text-align: right;\">\n      <th></th>\n      <th>Material</th>\n      <th>Usura_mat_g</th>\n      <th>Durezza_Disco</th>\n      <th>Comprex_LP</th>\n      <th>Comprex_LR</th>\n      <th>PistoneCpx</th>\n      <th>Inerzia</th>\n      <th>Vmax</th>\n      <th>Raggio_ruota</th>\n      <th>Area_pistone</th>\n      <th>...</th>\n      <th>CodImpianto_13.0</th>\n      <th>CodImpianto_14.0</th>\n      <th>CodImpianto_15.0</th>\n      <th>Disco_nuovo_0</th>\n      <th>Disco_nuovo_1</th>\n      <th>Disco_256X22</th>\n      <th>Disco_256x22</th>\n      <th>Disco_276x24</th>\n      <th>Disco_280X22</th>\n      <th>Disco_280x22</th>\n    </tr>\n  </thead>\n  <tbody>\n    <tr>\n      <th>count</th>\n      <td>653.000000</td>\n      <td>653.000000</td>\n      <td>653.000000</td>\n      <td>653.000000</td>\n      <td>650.000000</td>\n      <td>653.00000</td>\n      <td>653.000000</td>\n      <td>653.000000</td>\n      <td>653.000000</td>\n      <td>653.000000</td>\n      <td>...</td>\n      <td>653.000000</td>\n      <td>653.000000</td>\n      <td>653.000000</td>\n      <td>653.000000</td>\n      <td>653.000000</td>\n      <td>653.000000</td>\n      <td>653.000000</td>\n      <td>653.000000</td>\n      <td>653.00000</td>\n      <td>653.000000</td>\n    </tr>\n    <tr>\n      <th>mean</th>\n      <td>20668.571210</td>\n      <td>13.232006</td>\n      <td>198.894334</td>\n      <td>175.343032</td>\n      <td>175.313846</td>\n      <td>54.11026</td>\n      <td>66.632466</td>\n      <td>191.012251</td>\n      <td>307.623277</td>\n      <td>22.996294</td>\n      <td>...</td>\n      <td>0.006126</td>\n      <td>0.009188</td>\n      <td>0.009188</td>\n      <td>0.990812</td>\n      <td>0.009188</td>\n      <td>0.004594</td>\n      <td>0.539051</td>\n      <td>0.036753</td>\n      <td>0.06585</td>\n      <td>0.353752</td>\n    </tr>\n    <tr>\n      <th>std</th>\n      <td>6272.771726</td>\n      <td>7.996596</td>\n      <td>25.954825</td>\n      <td>43.668705</td>\n      <td>44.198669</td>\n      <td>0.56490</td>\n      <td>3.967041</td>\n      <td>5.431941</td>\n      <td>2.873970</td>\n      <td>0.493346</td>\n      <td>...</td>\n      <td>0.078086</td>\n      <td>0.095488</td>\n      <td>0.095488</td>\n      <td>0.095488</td>\n      <td>0.095488</td>\n      <td>0.067676</td>\n      <td>0.498855</td>\n      <td>0.188300</td>\n      <td>0.24821</td>\n      <td>0.478500</td>\n    </tr>\n    <tr>\n      <th>min</th>\n      <td>8951.000000</td>\n      <td>5.600000</td>\n      <td>146.000000</td>\n      <td>37.000000</td>\n      <td>36.000000</td>\n      <td>54.00000</td>\n      <td>45.000000</td>\n      <td>169.000000</td>\n      <td>290.000000</td>\n      <td>22.900000</td>\n      <td>...</td>\n      <td>0.000000</td>\n      <td>0.000000</td>\n      <td>0.000000</td>\n      <td>0.000000</td>\n      <td>0.000000</td>\n      <td>0.000000</td>\n      <td>0.000000</td>\n      <td>0.000000</td>\n      <td>0.00000</td>\n      <td>0.000000</td>\n    </tr>\n    <tr>\n      <th>25%</th>\n      <td>15761.000000</td>\n      <td>8.600000</td>\n      <td>180.000000</td>\n      <td>147.000000</td>\n      <td>146.000000</td>\n      <td>54.00000</td>\n      <td>65.000000</td>\n      <td>185.000000</td>\n      <td>308.000000</td>\n      <td>22.900000</td>\n      <td>...</td>\n      <td>0.000000</td>\n      <td>0.000000</td>\n      <td>0.000000</td>\n      <td>1.000000</td>\n      <td>0.000000</td>\n      <td>0.000000</td>\n      <td>0.000000</td>\n      <td>0.000000</td>\n      <td>0.00000</td>\n      <td>0.000000</td>\n    </tr>\n    <tr>\n      <th>50%</th>\n      <td>23292.000000</td>\n      <td>11.000000</td>\n      <td>194.000000</td>\n      <td>173.000000</td>\n      <td>173.000000</td>\n      <td>54.00000</td>\n      <td>65.000000</td>\n      <td>190.000000</td>\n      <td>308.000000</td>\n      <td>22.900000</td>\n      <td>...</td>\n      <td>0.000000</td>\n      <td>0.000000</td>\n      <td>0.000000</td>\n      <td>1.000000</td>\n      <td>0.000000</td>\n      <td>0.000000</td>\n      <td>1.000000</td>\n      <td>0.000000</td>\n      <td>0.00000</td>\n      <td>0.000000</td>\n    </tr>\n    <tr>\n      <th>75%</th>\n      <td>25291.000000</td>\n      <td>14.700000</td>\n      <td>213.000000</td>\n      <td>198.000000</td>\n      <td>197.000000</td>\n      <td>54.00000</td>\n      <td>72.500000</td>\n      <td>195.000000</td>\n      <td>308.000000</td>\n      <td>22.900000</td>\n      <td>...</td>\n      <td>0.000000</td>\n      <td>0.000000</td>\n      <td>0.000000</td>\n      <td>1.000000</td>\n      <td>0.000000</td>\n      <td>0.000000</td>\n      <td>1.000000</td>\n      <td>0.000000</td>\n      <td>0.00000</td>\n      <td>1.000000</td>\n    </tr>\n    <tr>\n      <th>max</th>\n      <td>29526.000000</td>\n      <td>101.800000</td>\n      <td>305.000000</td>\n      <td>481.000000</td>\n      <td>489.000000</td>\n      <td>57.00000</td>\n      <td>72.500000</td>\n      <td>215.000000</td>\n      <td>315.000000</td>\n      <td>25.520000</td>\n      <td>...</td>\n      <td>1.000000</td>\n      <td>1.000000</td>\n      <td>1.000000</td>\n      <td>1.000000</td>\n      <td>1.000000</td>\n      <td>1.000000</td>\n      <td>1.000000</td>\n      <td>1.000000</td>\n      <td>1.00000</td>\n      <td>1.000000</td>\n    </tr>\n  </tbody>\n</table>\n<p>8 rows \u00d7 42 columns</p>\n</div>", 
                        "text/plain": "           Material  Usura_mat_g  Durezza_Disco  Comprex_LP  Comprex_LR  \\\ncount    653.000000   653.000000     653.000000  653.000000  650.000000   \nmean   20668.571210    13.232006     198.894334  175.343032  175.313846   \nstd     6272.771726     7.996596      25.954825   43.668705   44.198669   \nmin     8951.000000     5.600000     146.000000   37.000000   36.000000   \n25%    15761.000000     8.600000     180.000000  147.000000  146.000000   \n50%    23292.000000    11.000000     194.000000  173.000000  173.000000   \n75%    25291.000000    14.700000     213.000000  198.000000  197.000000   \nmax    29526.000000   101.800000     305.000000  481.000000  489.000000   \n\n       PistoneCpx     Inerzia        Vmax  Raggio_ruota  Area_pistone  \\\ncount   653.00000  653.000000  653.000000    653.000000    653.000000   \nmean     54.11026   66.632466  191.012251    307.623277     22.996294   \nstd       0.56490    3.967041    5.431941      2.873970      0.493346   \nmin      54.00000   45.000000  169.000000    290.000000     22.900000   \n25%      54.00000   65.000000  185.000000    308.000000     22.900000   \n50%      54.00000   65.000000  190.000000    308.000000     22.900000   \n75%      54.00000   72.500000  195.000000    308.000000     22.900000   \nmax      57.00000   72.500000  215.000000    315.000000     25.520000   \n\n           ...       CodImpianto_13.0  CodImpianto_14.0  CodImpianto_15.0  \\\ncount      ...             653.000000        653.000000        653.000000   \nmean       ...               0.006126          0.009188          0.009188   \nstd        ...               0.078086          0.095488          0.095488   \nmin        ...               0.000000          0.000000          0.000000   \n25%        ...               0.000000          0.000000          0.000000   \n50%        ...               0.000000          0.000000          0.000000   \n75%        ...               0.000000          0.000000          0.000000   \nmax        ...               1.000000          1.000000          1.000000   \n\n       Disco_nuovo_0  Disco_nuovo_1  Disco_256X22  Disco_256x22  Disco_276x24  \\\ncount     653.000000     653.000000    653.000000    653.000000    653.000000   \nmean        0.990812       0.009188      0.004594      0.539051      0.036753   \nstd         0.095488       0.095488      0.067676      0.498855      0.188300   \nmin         0.000000       0.000000      0.000000      0.000000      0.000000   \n25%         1.000000       0.000000      0.000000      0.000000      0.000000   \n50%         1.000000       0.000000      0.000000      1.000000      0.000000   \n75%         1.000000       0.000000      0.000000      1.000000      0.000000   \nmax         1.000000       1.000000      1.000000      1.000000      1.000000   \n\n       Disco_280X22  Disco_280x22  \ncount     653.00000    653.000000  \nmean        0.06585      0.353752  \nstd         0.24821      0.478500  \nmin         0.00000      0.000000  \n25%         0.00000      0.000000  \n50%         0.00000      0.000000  \n75%         0.00000      1.000000  \nmax         1.00000      1.000000  \n\n[8 rows x 42 columns]"
                    }, 
                    "metadata": {}, 
                    "output_type": "execute_result"
                }
            ]
        }
    ], 
    "nbformat": 4, 
    "nbformat_minor": 0
}