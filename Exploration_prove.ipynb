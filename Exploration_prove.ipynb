{
    "metadata": {
        "kernelspec": {
            "name": "python2-spark20", 
            "display_name": "Python 2 with Spark 2.0", 
            "language": "python"
        }, 
        "language_info": {
            "codemirror_mode": {
                "version": 2, 
                "name": "ipython"
            }, 
            "version": "2.7.11", 
            "mimetype": "text/x-python", 
            "pygments_lexer": "ipython2", 
            "file_extension": ".py", 
            "name": "python", 
            "nbconvert_exporter": "python"
        }
    }, 
    "cells": [
        {
            "metadata": {
                "collapsed": false
            }, 
            "cell_type": "code", 
            "outputs": [
                {
                    "metadata": {}, 
                    "output_type": "execute_result", 
                    "execution_count": 1, 
                    "data": {
                        "text/html": "<div>\n<table border=\"1\" class=\"dataframe\">\n  <thead>\n    <tr style=\"text-align: right;\">\n      <th></th>\n      <th>Material</th>\n      <th>Usura_mat_mm</th>\n      <th>Usura_mat_g</th>\n      <th>Usura_disco_g</th>\n      <th>Durezza_Disco</th>\n      <th>CodPinza</th>\n      <th>Comprex_LP</th>\n      <th>Comprex_LR</th>\n      <th>Grindo_LP</th>\n      <th>Grindo_LR</th>\n      <th>...</th>\n      <th>Vmax</th>\n      <th>Rendimento</th>\n      <th>Indice_misura</th>\n      <th>Attrezzatura</th>\n      <th>Raggio_ruota</th>\n      <th>Area_pistone</th>\n      <th>CodImpianto</th>\n      <th>Raggio_medio</th>\n      <th>Disco_nuovo</th>\n      <th>Disco</th>\n    </tr>\n  </thead>\n  <tbody>\n    <tr>\n      <th>0</th>\n      <td>9482</td>\n      <td>0.55</td>\n      <td>6.7</td>\n      <td>8.0</td>\n      <td>164</td>\n      <td>1</td>\n      <td>166</td>\n      <td>167</td>\n      <td>753</td>\n      <td>768</td>\n      <td>...</td>\n      <td>190</td>\n      <td>1</td>\n      <td>2</td>\n      <td>0</td>\n      <td>308</td>\n      <td>22.9</td>\n      <td>0</td>\n      <td>117.7</td>\n      <td>0</td>\n      <td>280x22</td>\n    </tr>\n    <tr>\n      <th>1</th>\n      <td>9799</td>\n      <td>0.54</td>\n      <td>9.7</td>\n      <td>5.0</td>\n      <td>169</td>\n      <td>1</td>\n      <td>194</td>\n      <td>184</td>\n      <td>740</td>\n      <td>742</td>\n      <td>...</td>\n      <td>195</td>\n      <td>1</td>\n      <td>2</td>\n      <td>0</td>\n      <td>308</td>\n      <td>22.9</td>\n      <td>1</td>\n      <td>118.0</td>\n      <td>0</td>\n      <td>280X22</td>\n    </tr>\n    <tr>\n      <th>2</th>\n      <td>16136</td>\n      <td>0.50</td>\n      <td>8.9</td>\n      <td>5.0</td>\n      <td>196</td>\n      <td>1</td>\n      <td>196</td>\n      <td>194</td>\n      <td>768</td>\n      <td>743</td>\n      <td>...</td>\n      <td>195</td>\n      <td>1</td>\n      <td>2</td>\n      <td>0</td>\n      <td>308</td>\n      <td>22.9</td>\n      <td>2</td>\n      <td>104.0</td>\n      <td>0</td>\n      <td>256X22</td>\n    </tr>\n    <tr>\n      <th>3</th>\n      <td>19269</td>\n      <td>0.36</td>\n      <td>7.9</td>\n      <td>6.0</td>\n      <td>194</td>\n      <td>1</td>\n      <td>194</td>\n      <td>190</td>\n      <td>0</td>\n      <td>0</td>\n      <td>...</td>\n      <td>195</td>\n      <td>1</td>\n      <td>2</td>\n      <td>0</td>\n      <td>308</td>\n      <td>22.9</td>\n      <td>2</td>\n      <td>104.0</td>\n      <td>0</td>\n      <td>256X22</td>\n    </tr>\n    <tr>\n      <th>4</th>\n      <td>19269</td>\n      <td>0.58</td>\n      <td>8.8</td>\n      <td>5.4</td>\n      <td>190</td>\n      <td>1</td>\n      <td>213</td>\n      <td>195</td>\n      <td>0</td>\n      <td>0</td>\n      <td>...</td>\n      <td>190</td>\n      <td>1</td>\n      <td>1</td>\n      <td>0</td>\n      <td>308</td>\n      <td>22.9</td>\n      <td>3</td>\n      <td>117.7</td>\n      <td>0</td>\n      <td>280x22</td>\n    </tr>\n  </tbody>\n</table>\n<p>5 rows \u00d7 23 columns</p>\n</div>", 
                        "text/plain": "   Material  Usura_mat_mm  Usura_mat_g  Usura_disco_g  Durezza_Disco  \\\n0      9482          0.55          6.7            8.0            164   \n1      9799          0.54          9.7            5.0            169   \n2     16136          0.50          8.9            5.0            196   \n3     19269          0.36          7.9            6.0            194   \n4     19269          0.58          8.8            5.4            190   \n\n   CodPinza  Comprex_LP  Comprex_LR  Grindo_LP  Grindo_LR   ...    Vmax  \\\n0         1         166         167        753        768   ...     190   \n1         1         194         184        740        742   ...     195   \n2         1         196         194        768        743   ...     195   \n3         1         194         190          0          0   ...     195   \n4         1         213         195          0          0   ...     190   \n\n   Rendimento  Indice_misura  Attrezzatura  Raggio_ruota  Area_pistone  \\\n0           1              2             0           308          22.9   \n1           1              2             0           308          22.9   \n2           1              2             0           308          22.9   \n3           1              2             0           308          22.9   \n4           1              1             0           308          22.9   \n\n   CodImpianto  Raggio_medio  Disco_nuovo   Disco  \n0            0         117.7            0  280x22  \n1            1         118.0            0  280X22  \n2            2         104.0            0  256X22  \n3            2         104.0            0  256X22  \n4            3         117.7            0  280x22  \n\n[5 rows x 23 columns]"
                    }
                }
            ], 
            "execution_count": 1, 
            "source": "# The code was removed by DSX for sharing."
        }, 
        {
            "metadata": {
                "collapsed": false
            }, 
            "cell_type": "code", 
            "outputs": [], 
            "execution_count": 2, 
            "source": "df_data_1 = df_data_1.drop(\"Usura_mat_mm\",1)\ndf_data_1 = df_data_1.drop(\"Usura_disco_g\",1)\ndf_data_1 = df_data_1.drop(\"Grindo_LP\",1)\ndf_data_1 = df_data_1.drop(\"Grindo_LR\",1)\ndf_data_1 = df_data_1.drop(\"Press_accost\",1)"
        }, 
        {
            "metadata": {
                "collapsed": false
            }, 
            "cell_type": "code", 
            "outputs": [], 
            "execution_count": 6, 
            "source": "df_data_1 = df_data_1.drop(\"Rendimento\",1)"
        }, 
        {
            "metadata": {
                "scrolled": true, 
                "collapsed": false
            }, 
            "cell_type": "code", 
            "outputs": [
                {
                    "name": "stdout", 
                    "output_type": "stream", 
                    "text": "Material [ 9482  9799 16136 19269 22719 26346  9630  9631 18311 20178 22157 22480\n 18454 18296 25935 15759 23139 20816 21004 22830 23105 23602 23892 24042\n 24043 24044 24388 24582 24583 24584 27078 27080 28472 24281 25492 25646\n 18458 17230 24728 25124 25634 25755 26056 26145 26374 26541 26848 26862\n 26889 26952 26953 26954 27227 10439 11558 12248 12249 12250 12093 13491\n 16821 16042 10892 18060 23636 22426 16635 12258 12366 15946 15947  9387\n 10952  8951  9024  9544  9566 10289 16630 10082 10169 10376  8997 10450\n 11196 10386 11108  9337  9385  9386  9564  9565  9627  9628  9422  9491\n  9588  9592  9593  9540  9541 10842 13490 11982 12390 12405 12240 17674\n 17833 17834 17835 17882 17937 17938 20179 26413 26153 16976 17330 18009\n 24143 24144 20344 20730 20898 20939 22277 22367 22448 22490 16633 16634\n 15382 15895 27215 15951 20333 21298 15565 15942 11021 20279 26461 24855\n 21340 27635 18537 24547 26988 27538 27539 13883 22305 15761 23358 27674\n 11227 27623 15720 26464 24757 10805 16227 10432 18551 24611 28352 17935\n 27380 19658 20056 24613 24614 24615 24843 24844 24845 25238 25239 24616\n 24629 24661 24662 25016 25017 23142 23990 23991 24423 24425 24426 24428\n 24430 25290 25291 25394 25396 26015 26016 26018 26019 26020 26024 26022\n 26244 26247 26251 26274 26285 26286 26287 26288 26290 26299 26663 26664\n 26665 26666 26667 26668 27061 27062 27063 27064 27394 27395 27396 28051\n 28053 28054 24127 24128 24129 24130 23986 24312 28204 28205 28206 28276\n 23721 23722 23723 23724 23725 23726 24643 24710 25276 25277 25279 11452\n 11453 10985 11033 11091 11093 11095 11152 11154 11214 11215 11216 11223\n 11224 11398 11399 11443 11469 11497 11545 11546 11650 11651 11660 11629\n 11653 16437 17936 22045 16599 24493 10244 27153 27155 27302 28000 28014\n 28016 28240 28407 28408 28412 28619 28620 28621 28622 28623 28862 28864\n 28866 28867 29081 28415 28416 12462 10976 11243 26232 25035 25036 25038\n 25041 25563 25564 23901 28234 28740 29359 29483 28062 24106 24167 24169\n 24171 24285 24334 24434 24438 24439 24445 24446 24452 24447 24448 24449\n 24644 24678 24726 24775 24778 24784 24785 25171 25172 24504 12140 12141\n 15864 24607 25057 23292 15569 15943 15944 20999 15600  9313  9636  9936\n 25542 23356 17853 20280  9043 19092 20283 24842 22325 23141 24427 25292\n 25293 26021 26246 26289 26323 26702 27403 28052 28055 24131 23985 13725\n 13726 18095 11285 15948 17227 18345 18614 18615  9629 10240 10241  9734\n  9339  9637  9416  9607  9591 15760 10841 10246 12407 17380 20320 22046\n 20940 22447 18312 22479 26366 17237 16069 23609 23681 23778 24387 26007\n 18494 24605 24719 25046 25591 26135 26410 26902 13511 13512 10232 10883\n 11753 12246 12247 12251 12252 27837 24484 24642 25278 25284 11454 11062\n 11063 11092 11094 11153 11212 11225 11444 11652 11630 20711 20701 27303\n 27999 28015 28409 28863 28865 28414 10972 25037 25039 25040 26231 27918\n 29360 29381 29526 24105 24168 24172 24435 24436 24645 24658 24702 24777\n 24802 24461 24724]\nUsura_mat_g [   6.7    9.7    8.9    7.9    8.8    7.4    7.     6.9   13.3    8.3\n   10.2    7.7    7.3    9.2    8.6   10.1    6.5    8.1    6.6    8.2\n    7.8    7.1    8.     7.6    8.4    9.5    9.     6.8    9.1   10.5\n    8.5   22.3    7.5   13.9   14.3   13.7    9.4   11.6   11.1    7.2\n   10.9   11.8   10.8    9.3   10.4    9.8   10.    14.1   16.8   17.1\n   24.5   24.2   10.7   11.2   25.7   60.4   15.2   13.8   10.6    9.6\n   20.    14.2   13.    14.9   10.3   14.    14.4   13.5   12.7   15.3\n   23.3   26.7   28.6   21.2   12.2    9.9   13.1   12.3   20.2   20.3\n   18.9   22.6   39.3   18.3   11.9   11.    12.    12.5    8.7   11.7\n   38.8    6.4   12.9    6.    11.3    6.3   11.5   13.4   16.7    5.6\n   12.1   11.4   13.6   60.9   55.8   47.6   16.4   19.5   19.    19.3\n   15.6   13.2   14.6   12.4   15.    16.5   12.6   16.6   14.7   15.5\n   18.1   18.    32.2   21.5   33.9   40.8   17.4   19.8   20.7   24.8\n   16.9   15.1   14.5   15.7   15.8   17.5    6.1   25.    20.8   24.3\n   23.6   22.9   24.6   22.2   22.    18.4   19.4   16.1   15.4   17.6\n   19.6   16.2   21.8   19.1   39.    34.1   25.1   21.3   12.8   19.2\n   31.    23.7   24.9   16.    22.1   28.4   25.8   35.1   21.7   22.8\n   32.3   48.7   36.7   30.4   36.9  101.8    5.7   25.4   14.8   41.4\n    6.2   27.6   17.2   16.3   28.3   25.3   27.3   21.    23.9   21.9\n   17.3   18.2   28.5   26.5   20.5   23.5   43.8   23.1   34.9]\nDurezza_Disco [164 169 196 194 190 208 158 226 236 199 222 175 176 173 184 163 220 202\n 223 182 218 165 168 198 205 247 243 242 249 255 257 217 237 216 181 188\n 187 186 213 204 212 229 193 183 154 245 262 251 189 191 201 172 207 219\n 228 239 221 232 258 230 225 240 195 185 200 192 174 177 171 197 209 273\n 235 179 275 180 271 210 227 170 157 178 203 166 159 263 233 214 246 268\n 260 303 206 254 211 162 160 153 161 231 215 156 155 241 269 167 234 238\n 248 224 304 274 305 264 146 252 149 281 302]\nCodPinza [1 0 3 4]\nComprex_LP [166 194 196 213 205 170 165 186 172 200 209 189 161 208 144 137 203 174\n 226 216 142 118 183 187 167 168 180 181 162 185 155 141 157 143 150 160\n 182 176  37 128 131 215 206 211 147 220 178 365 192 146 199 164 184 193\n 191 210 169 197 198 173 175 229 153 148 212 108 301 225  94  73 207 231\n 125 119 145 195 224 190 179 177 243 109 114 100 104 115 152 217 151 221\n 282 154 158 149 202 138 233 218 302 309 156 140 133 101  86 130 255 245\n  95 139 102 111 136 129 135 103 116 254 236 232 230 275 295 287 280 292\n 285 171 163 188 249 312 261 239 112 113 240 265 316 266 223  90 201 204\n 122 257 132 228  81  84  89 238 127  91 219 246 307 481 267 110 134 126\n 159 117 235 222 121 247 227 278 308 124 123  92  98 107 244]\nComprex_LR [ 167.  184.  194.  190.  195.  228.  166.  183.  153.  200.  207.  280.\n  210.  179.  212.  142.  133.  187.  186.  225.  209.  135.  138.  178.\n  182.  189.  180.  158.  173.  174.  150.  145.  152.  171.  160.  172.\n  159.  204.   36.  130.  139.  231.  205.  169.  203.  170.  219.  385.\n  213.  136.  137.  155.  163.  185.  197.  196.  176.  168.  188.  191.\n  181.  236.  216.  125.  147.  295.  193.  223.   94.   72.  211.  229.\n  102.  118.  198.  157.  165.  199.  144.  238.  115.  110.  106.  149.\n  146.  151.  261.  177.  161.  148.  143.   nan  141.  233.  218.  230.\n  217.  121.  313.  300.  128.  101.   85.  131.  134.  257.  175.  246.\n   90.  132.  192.   99.  109.  104.   98.  140.  124.  129.  113.  162.\n  164.  270.  239.  226.  254.  288.  294.  282.  251.  293.  253.   75.\n  201.  122.  318.  244.  273.  206.  308.  265.  222.  208.  262.  260.\n   86.   87.   88.  154.  117.  114.  108.  281.  249.  311.  489.  259.\n  119.  156.  127.  111.  116.  255.  232.  268.  241.  243.  304.  202.\n  242.  235.  250.  107.  296.  252.  112.]\nPistoneCpx [54 57]\nInerzia [ 72.5  65.   45.   51. ]\nVmax [190 195 185 169 192 215]\nIndice_misura [2 1]\nAttrezzatura [0 1]\nRaggio_ruota [308 290 315]\nArea_pistone [ 22.9   25.52]\nCodImpianto [  0.   1.   2.   3.   4.   5.   6.   7.   8.  11.   9.  13.  12.  10.  14.\n  nan  15.]\nRaggio_medio [ 117.7  118.   104.   113. ]\nDisco_nuovo [0 1]\nDisco ['280x22' '280X22' '256X22' '256x22' '276x24']\n"
                }
            ], 
            "execution_count": 31, 
            "source": "for name in df_data_1.columns:\n    print name ,df_data_1[name].unique()"
        }, 
        {
            "metadata": {
                "collapsed": false
            }, 
            "cell_type": "code", 
            "outputs": [], 
            "execution_count": 21, 
            "source": "df_data_2 = pd.get_dummies(df_data_1, columns=[\"CodPinza\",\"Indice_misura\",\"Attrezzatura\",\"CodImpianto\",\"Disco_nuovo\",\"Disco\"])"
        }, 
        {
            "metadata": {
                "collapsed": false
            }, 
            "cell_type": "code", 
            "outputs": [
                {
                    "name": "stdout", 
                    "output_type": "stream", 
                    "text": "(653, 17)\n(653, 42)\n"
                }
            ], 
            "execution_count": 32, 
            "source": "print df_data_1.shape\nprint df_data_2.shape"
        }, 
        {
            "metadata": {
                "collapsed": false
            }, 
            "cell_type": "code", 
            "outputs": [
                {
                    "metadata": {}, 
                    "output_type": "execute_result", 
                    "execution_count": 33, 
                    "data": {
                        "text/html": "<div>\n<table border=\"1\" class=\"dataframe\">\n  <thead>\n    <tr style=\"text-align: right;\">\n      <th></th>\n      <th>Material</th>\n      <th>Usura_mat_g</th>\n      <th>Durezza_Disco</th>\n      <th>Comprex_LP</th>\n      <th>Comprex_LR</th>\n      <th>PistoneCpx</th>\n      <th>Inerzia</th>\n      <th>Vmax</th>\n      <th>Raggio_ruota</th>\n      <th>Area_pistone</th>\n      <th>...</th>\n      <th>CodImpianto_13.0</th>\n      <th>CodImpianto_14.0</th>\n      <th>CodImpianto_15.0</th>\n      <th>Disco_nuovo_0</th>\n      <th>Disco_nuovo_1</th>\n      <th>Disco_256X22</th>\n      <th>Disco_256x22</th>\n      <th>Disco_276x24</th>\n      <th>Disco_280X22</th>\n      <th>Disco_280x22</th>\n    </tr>\n  </thead>\n  <tbody>\n    <tr>\n      <th>0</th>\n      <td>9482</td>\n      <td>6.7</td>\n      <td>164</td>\n      <td>166</td>\n      <td>167</td>\n      <td>54</td>\n      <td>72.5</td>\n      <td>190</td>\n      <td>308</td>\n      <td>22.9</td>\n      <td>...</td>\n      <td>0</td>\n      <td>0</td>\n      <td>0</td>\n      <td>1</td>\n      <td>0</td>\n      <td>0</td>\n      <td>0</td>\n      <td>0</td>\n      <td>0</td>\n      <td>1</td>\n    </tr>\n    <tr>\n      <th>1</th>\n      <td>9799</td>\n      <td>9.7</td>\n      <td>169</td>\n      <td>194</td>\n      <td>184</td>\n      <td>54</td>\n      <td>65.0</td>\n      <td>195</td>\n      <td>308</td>\n      <td>22.9</td>\n      <td>...</td>\n      <td>0</td>\n      <td>0</td>\n      <td>0</td>\n      <td>1</td>\n      <td>0</td>\n      <td>0</td>\n      <td>0</td>\n      <td>0</td>\n      <td>1</td>\n      <td>0</td>\n    </tr>\n    <tr>\n      <th>2</th>\n      <td>16136</td>\n      <td>8.9</td>\n      <td>196</td>\n      <td>196</td>\n      <td>194</td>\n      <td>54</td>\n      <td>65.0</td>\n      <td>195</td>\n      <td>308</td>\n      <td>22.9</td>\n      <td>...</td>\n      <td>0</td>\n      <td>0</td>\n      <td>0</td>\n      <td>1</td>\n      <td>0</td>\n      <td>1</td>\n      <td>0</td>\n      <td>0</td>\n      <td>0</td>\n      <td>0</td>\n    </tr>\n    <tr>\n      <th>3</th>\n      <td>19269</td>\n      <td>7.9</td>\n      <td>194</td>\n      <td>194</td>\n      <td>190</td>\n      <td>54</td>\n      <td>65.0</td>\n      <td>195</td>\n      <td>308</td>\n      <td>22.9</td>\n      <td>...</td>\n      <td>0</td>\n      <td>0</td>\n      <td>0</td>\n      <td>1</td>\n      <td>0</td>\n      <td>1</td>\n      <td>0</td>\n      <td>0</td>\n      <td>0</td>\n      <td>0</td>\n    </tr>\n    <tr>\n      <th>4</th>\n      <td>19269</td>\n      <td>8.8</td>\n      <td>190</td>\n      <td>213</td>\n      <td>195</td>\n      <td>54</td>\n      <td>72.5</td>\n      <td>190</td>\n      <td>308</td>\n      <td>22.9</td>\n      <td>...</td>\n      <td>0</td>\n      <td>0</td>\n      <td>0</td>\n      <td>1</td>\n      <td>0</td>\n      <td>0</td>\n      <td>0</td>\n      <td>0</td>\n      <td>0</td>\n      <td>1</td>\n    </tr>\n  </tbody>\n</table>\n<p>5 rows \u00d7 42 columns</p>\n</div>", 
                        "text/plain": "   Material  Usura_mat_g  Durezza_Disco  Comprex_LP  Comprex_LR  PistoneCpx  \\\n0      9482          6.7            164         166         167          54   \n1      9799          9.7            169         194         184          54   \n2     16136          8.9            196         196         194          54   \n3     19269          7.9            194         194         190          54   \n4     19269          8.8            190         213         195          54   \n\n   Inerzia  Vmax  Raggio_ruota  Area_pistone      ...       CodImpianto_13.0  \\\n0     72.5   190           308          22.9      ...                      0   \n1     65.0   195           308          22.9      ...                      0   \n2     65.0   195           308          22.9      ...                      0   \n3     65.0   195           308          22.9      ...                      0   \n4     72.5   190           308          22.9      ...                      0   \n\n   CodImpianto_14.0  CodImpianto_15.0  Disco_nuovo_0  Disco_nuovo_1  \\\n0                 0                 0              1              0   \n1                 0                 0              1              0   \n2                 0                 0              1              0   \n3                 0                 0              1              0   \n4                 0                 0              1              0   \n\n   Disco_256X22  Disco_256x22  Disco_276x24  Disco_280X22  Disco_280x22  \n0             0             0             0             0             1  \n1             0             0             0             1             0  \n2             1             0             0             0             0  \n3             1             0             0             0             0  \n4             0             0             0             0             1  \n\n[5 rows x 42 columns]"
                    }
                }
            ], 
            "execution_count": 33, 
            "source": "df_data_2.head()"
        }
    ], 
    "nbformat_minor": 0, 
    "nbformat": 4
}